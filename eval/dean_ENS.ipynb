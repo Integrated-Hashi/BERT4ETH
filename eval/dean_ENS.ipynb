{
 "cells": [
  {
   "cell_type": "code",
   "id": "initial_id",
   "metadata": {
    "collapsed": true,
    "ExecuteTime": {
     "end_time": "2024-07-25T06:13:24.798417Z",
     "start_time": "2024-07-25T06:13:24.790320Z"
    }
   },
   "source": [
    "import numpy as np\n",
    "import os\n",
    "\n",
    "import torch\n",
    "from sklearn.metrics import classification_report\n",
    "from sklearn.model_selection import train_test_split\n",
    "from sklearn.ensemble import RandomForestClassifier\n",
    "from torch import nn\n",
    "import torch.nn.functional as F\n",
    "import torch.utils.data as data_utils\n",
    "from tqdm import tqdm\n",
    "import argparse\n",
    "import pandas as pd\n",
    "from numpy import dot\n",
    "from numpy.linalg import norm"
   ],
   "outputs": [],
   "execution_count": 13
  },
  {
   "metadata": {
    "ExecuteTime": {
     "end_time": "2024-07-25T06:13:24.813271Z",
     "start_time": "2024-07-25T06:13:24.800418Z"
    }
   },
   "cell_type": "code",
   "source": [
    "# parser = argparse.ArgumentParser(\"dean_ens\")\n",
    "# parser.add_argument(\"--input_dir\", type=str, default=\"../outputs/bert4eth_filter_epoch_50\", help=\"the input directory of address and embedding list\")\n",
    "# parser.add_argument(\"--metric\", type=str, default=\"euclidean\")\n",
    "# args = parser.parse_args()"
   ],
   "id": "c38d48729d4c274b",
   "outputs": [],
   "execution_count": 14
  },
  {
   "metadata": {
    "ExecuteTime": {
     "end_time": "2024-07-25T06:13:24.828689Z",
     "start_time": "2024-07-25T06:13:24.815272Z"
    }
   },
   "cell_type": "code",
   "source": [
    "def generate_pairs(ens_pairs, min_cnt=2, max_cnt=2, mirror=True):\n",
    "    \"\"\"\n",
    "    Generate testing pairs based on ENS name\n",
    "    :param ens_pairs:\n",
    "    :param min_cnt:\n",
    "    :param max_cnt:\n",
    "    :param mirror:\n",
    "    :return:\n",
    "    \"\"\"\n",
    "    pairs = ens_pairs.copy()\n",
    "    ens_counts = pairs[\"name\"].value_counts()\n",
    "    address_pairs = []\n",
    "    all_ens_names = []\n",
    "    ename2addresses = {}\n",
    "    for idx, row in pairs.iterrows():\n",
    "        try:\n",
    "            ename2addresses[row[\"name\"]].append(row[\"address\"]) # note: cannot use row.name\n",
    "        except:\n",
    "            ename2addresses[row[\"name\"]] = [row[\"address\"]]\n",
    "    for cnt in range(min_cnt, max_cnt + 1):\n",
    "        ens_names = list(ens_counts[ens_counts == cnt].index)\n",
    "        all_ens_names += ens_names\n",
    "        # convert to indices\n",
    "        for ename in ens_names:\n",
    "            addrs = ename2addresses[ename]\n",
    "            for i in range(len(addrs)):\n",
    "                for j in range(i + 1, len(addrs)):\n",
    "                    addr1, addr2 = addrs[i], addrs[j]\n",
    "                    address_pairs.append([addr1, addr2])\n",
    "                    if mirror:\n",
    "                        address_pairs.append([addr2, addr1])\n",
    "    return address_pairs, all_ens_names"
   ],
   "id": "d7af591942b439bd",
   "outputs": [],
   "execution_count": 15
  },
  {
   "metadata": {
    "ExecuteTime": {
     "end_time": "2024-07-25T06:13:24.876274Z",
     "start_time": "2024-07-25T06:13:24.829690Z"
    }
   },
   "cell_type": "code",
   "source": [
    "ens_pairs = pd.read_csv(\"../data/dean_all_ens_pairs.csv\")\n",
    "max_ens_per_address = 1\n",
    "num_ens_for_addr = ens_pairs.groupby(\"address\")[\"name\"].nunique().sort_values(ascending=False).reset_index()\n",
    "excluded = list(num_ens_for_addr[num_ens_for_addr[\"name\"] > max_ens_per_address][\"address\"])\n",
    "ens_pairs = ens_pairs[~ens_pairs[\"address\"].isin(excluded)]\n",
    "address_pairs, all_ens_names = generate_pairs(ens_pairs, max_cnt=2)"
   ],
   "id": "27b30ba7252ef7ab",
   "outputs": [],
   "execution_count": 16
  },
  {
   "metadata": {
    "ExecuteTime": {
     "end_time": "2024-07-25T06:13:24.891357Z",
     "start_time": "2024-07-25T06:13:24.877275Z"
    }
   },
   "cell_type": "code",
   "source": [
    "def load_embedding():\n",
    "    address_input_dir = \"../outputs/bert4eth_filter_epoch_50/address.npy\"\n",
    "    embed_input_dir = \"../outputs/bert4eth_filter_epoch_50/embedding.npy\"\n",
    "    address_for_embedding = np.load(address_input_dir)\n",
    "    embeddings = np.load(embed_input_dir)\n",
    "    \n",
    "    # group by embedding according to address\n",
    "    address_to_embedding = {}\n",
    "    \n",
    "    for i in range(len(address_for_embedding)):\n",
    "        address = address_for_embedding[i]\n",
    "        embedding = embeddings[i]\n",
    "        try:\n",
    "            address_to_embedding[address].append(embedding)\n",
    "        except:\n",
    "            address_to_embedding[address] = [embedding]\n",
    "    \n",
    "    # group to one\n",
    "    address_list = []\n",
    "    embedding_list = []\n",
    "    \n",
    "    for addr, embeds in address_to_embedding.items():\n",
    "        address_list.append(addr)\n",
    "        if len(embeds) > 1:\n",
    "            embedding_list.append(np.mean(embeds, axis=0))\n",
    "        else:\n",
    "            embedding_list.append(embeds[0])\n",
    "\n",
    "    # final embedding table\n",
    "    X = np.array(np.squeeze(embedding_list))\n",
    "\n",
    "    return X, address_list"
   ],
   "id": "3eeb4ad38d626ef",
   "outputs": [],
   "execution_count": 17
  },
  {
   "metadata": {
    "ExecuteTime": {
     "end_time": "2024-07-25T06:13:26.108467Z",
     "start_time": "2024-07-25T06:13:24.892365Z"
    }
   },
   "cell_type": "code",
   "source": [
    "X, address_list = load_embedding()\n",
    "address_list"
   ],
   "id": "b85bed5ee6ef7d65",
   "outputs": [
    {
     "data": {
      "text/plain": [
       "['0xb7de073f5421450d7b35def967f1de0da379e45b',\n",
       " '0x5b589e4a49a9363b51c8d4194872f4661d3c98c5',\n",
       " '0x23f5a6d807f017b5e115b3029f84b4f389b45fd2',\n",
       " '0x4495530a38b6254ae9c990da830a5e035e2733f5',\n",
       " '0x7045d06b0ae31d5225ff0dc0ce2d75035a505fcd',\n",
       " '0xed06f8eba1eae2271f84deaf55a5e2249af5a1a8',\n",
       " '0xe4436322b545b9d1aa595b771dd1cfc42980c4cf',\n",
       " '0xea795e5453b31ff7fac93a3d571651b65da8732f',\n",
       " '0xd964fffd7f1ad0f5674734b0ea0f8ae6f4bb57e7',\n",
       " '0x6186290b28d511bff971631c916244a9fc539cfe',\n",
       " '0x4a4fd264d56cc07a1e9874c1cb175a13cd025cd0',\n",
       " '0x544e948d47b48ffb92d4323ee053a061b48faf85',\n",
       " '0x723ad624e45a95b8db07d72c83f9f20f00d8c542',\n",
       " '0x58168afd85d9b656665558a42f4dd17291ca34eb',\n",
       " '0x6313df8455bada5cb66efcd99c3cc90ea7bd81ca',\n",
       " '0x8e73e54466212fbbb2565a380de42cde01b45060',\n",
       " '0x323a4b00bd558cf2838a2e141e9304e45650b129',\n",
       " '0x1802b38e20813b12233bb7510ac1fc46ecaa7d89',\n",
       " '0xb9b24876e239375e51a2aabdccccd5a650dac735',\n",
       " '0xfd0a88dc95942f17d7ab999916c908e07057e746',\n",
       " '0xdd54c54fc5c11e8357ab9ca853aff06716677fdc',\n",
       " '0x1014fb4ba1e379d3affef125bb0ca0e37ab5646b',\n",
       " '0xe650f4a253a638633aef88f1fc4f1d149e6b1914',\n",
       " '0x0fa902048ee17648127a0410c89704fcd3cd402b',\n",
       " '0xb47e1d29b254f3605020392273f14daa245c6c90',\n",
       " '0x7c8057440042e2f65d1c46c12bc9959ac8bfc720',\n",
       " '0x70d53673690c4678d6788163b2c99afbe52628e7',\n",
       " '0xe333a751a992cf2b2cd18769e9d63ca4760e49f8',\n",
       " '0xdf7bf03bd2f4926b80d8084dc8ff379329f38c64',\n",
       " '0xbb017b5f2c3f3e0e66bc0a8beb9049e9d7d427d1',\n",
       " '0xebe958b8f674bff32fdae2fa863abe2cfac968c1',\n",
       " '0xeecec9d9268bc27a917b5175f0f610b4d46f7ff3',\n",
       " '0x88aa13eef6bb6d601bc943ba3ecc5edb53cd9231',\n",
       " '0x20dd4a02064f8b841dbada498ac5ff7828328c10',\n",
       " '0x64f1a926136dd2444efdc58b00f31706d4e41dbb',\n",
       " '0x1f4a65ab1236b2fc2bef036f45b06c672ddf6f19',\n",
       " '0x1a9835e65280734ca9b4aaa01e9ad136f38b6bb0',\n",
       " '0xcd0c49d283aaf447f357a84fc2d53b5a0ca72e3e',\n",
       " '0x6db3ad51e3f01009796419b22b94c905190de825',\n",
       " '0xe56a2f63785acaabd2d5a150a0cde50e652d9130',\n",
       " '0xade5bc9bf15afc037938b1b9628b8133187e238a',\n",
       " '0xfa0a51ed5c73f6c0d9819eb381c700fbe9716586',\n",
       " '0xf600e5da5129db36abc2d27f149f27cb4ab21f45',\n",
       " '0x5838bccc7c4361dfeb90cad1c87ed69b187eed91',\n",
       " '0xf1b768390b2910214c7fe22687405307e84d6261',\n",
       " '0xd01b64f712c99cc62e7a9ebafc1ebc0084c35056',\n",
       " '0x7d52f5530637807287d896fa31a7f3557881f717',\n",
       " '0x6b5d079ccbbdadf288c537476398028590f4a4b0',\n",
       " '0xbaae7be9d185c4c8658ad17a629e36982507bc71',\n",
       " '0xd7ebf395cc52de54087ee2505094d5eed87bc15d',\n",
       " '0xa4303aaa8b8a0a63ca03209573c89cdb37e9d557',\n",
       " '0x11acbbe18d930616970bc08f4d821c886dac1056',\n",
       " '0xd0777ac3c126bf70921caa159a8e84dbf31e4bf4',\n",
       " '0x8924e46bc1598218ddbe4f08a2f68081a6de20e2',\n",
       " '0x6abd13ff66f7d9b30cd6452169ff738a4e0bf596',\n",
       " '0x6cafe35cf046514657e9c46e29d19e5ecdff43e9',\n",
       " '0x8879b36f973abde0dcc18fd99fb4a32cf19b3e2f',\n",
       " '0xf43e078d17a3b01ca5603c50160be01bc1d454e6',\n",
       " '0xe6e79a1f39b2b5b191e4880c35d9926f108bfb2b',\n",
       " '0x4b2c01527a08706fc6ac88ead2e158c8593a16b7',\n",
       " '0x22267efb33bcb964c8b8eda6e147d7d7a2012206',\n",
       " '0x803f1dbf127acf7c221a20a07e8e2c68d05bf990',\n",
       " '0x9f0de8c0cc9ecfde2c04421fc25b6f7a12709f77',\n",
       " '0xda2e56403885e4d86147efa9c077f4b2adc2ad0c',\n",
       " '0xbc1b3d68c5e67d29d7425e63803e782d0ea17876',\n",
       " '0x9731ed2e6f4305429cd7be065e48b4ff8f5e23af',\n",
       " '0xf6f632e652dce288dac92c08e952df088b41cc85',\n",
       " '0x204ff11b5c66a5023504628f47afb3c2d17a7339',\n",
       " '0xef4c7d6742114a0018f1dce59e00c4d2873bc5ef',\n",
       " '0xd81bc5f2a41ca51bc7933515e02ee8e18c9b47b7',\n",
       " '0x83210199af4546914751c170898f3e9aba28b555',\n",
       " '0x323e7cfa0188b02352295ef95b53855acedf90b6',\n",
       " '0x2a1b3633146c51435fe2f10672705464456b8d7c',\n",
       " '0x6ba5b00f9916846108a6eb611e863d194e7b885f',\n",
       " '0x29899ade659d9d83ef60656cd1d30636c62057ef',\n",
       " '0x1345c39272a984db1236f6f822d7b83df0a4711b',\n",
       " '0x2894ffe6cab20a3d08b26cd64c419d62ebaa3016',\n",
       " '0xdf8bfa68c1d11c6386d26bbe391a9ce048e3b59a',\n",
       " '0xff931b2ceb5f3d4638cf4a6f8f7b1c0787d46100',\n",
       " '0x1a4a60959c0da353268afb702dfa6bf34eded78f',\n",
       " '0xb6fdb6de15e9b03553824663caa770344286c921',\n",
       " '0xa5e25f3983495bcb0ba2f85c75bf9032c5de1a38',\n",
       " '0xab4b9a97096aa416e08b22bf2a35d27d3f788840',\n",
       " '0x1a448d0fecea5f5cc1ed51d3a4a1f9e9cde0681c',\n",
       " '0x4cb5943165ab44436c9f79ba7d1b8a798962b33c',\n",
       " '0xf32cb3bb552dfe915562900d32bc016571d34caa',\n",
       " '0x24c79b7add69802c3c5839be26ae73383cecea15',\n",
       " '0xc432db6c0581ddc70e0b8e02b2bd3b7811d05b2a',\n",
       " '0xf645e78a19ac65fcf0b86bce85481fa564427ad3',\n",
       " '0x931821408abb84d4f998cdb162962c624c55ac38',\n",
       " '0xee06196cf4f6286c209814ca21df7780b67ea713',\n",
       " '0x5f9bda44e1f0af71849f8c0b8bbf1bbd243ef0ca',\n",
       " '0x4cf4f32b03d839e822cc1d8749eaed7a204c03b3',\n",
       " '0x0eb89b2653b7c9c0270b01c1c86c25e656d52a74',\n",
       " '0x3e7a286db3c857e62b3b2e804cc823c40bbc2e61',\n",
       " '0xac609cdaefe46507a06d8b213fad60d3ba5ca602',\n",
       " '0x6b5628047593a1b6ccd4977a3cf0583c434c1b51',\n",
       " '0x1759b16d8abb0c88c8a5f7acafc91348aca91e3b',\n",
       " '0x86f259ec827db6c617eebf1b8410d80a10e5fa12',\n",
       " '0x2b35583b76c7ec3a94eff48c95ef2816ede617f5',\n",
       " '0xe0df1a9c29ffe1137e59bd926a27eefd0148efcb',\n",
       " '0x14f4012859e496a94f549f7832b4ada47f3de6ca',\n",
       " '0xe883a3ab3f09fab007ae3f2361add343a4a628d7',\n",
       " '0xcd5b032b5f5ba97a6bde4123c4c62efd6eebfc40',\n",
       " '0xb25d7fb2c7e4308e9cb1a8618dbc89252d4a83b9',\n",
       " '0x771c0f059aefc1b01b11367bfe18809d5454738a',\n",
       " '0xb78038019e2d37bb63c5aaeb2136da688d556a4b',\n",
       " '0x81419b3e9b77376890fab26c2402a984107d88e6',\n",
       " '0x5c5b04f276fe8bd0647862af45e58a14ae67fb1d',\n",
       " '0xbc38f605919e7f43ca3592f3bad21f030e9fd113',\n",
       " '0xf28ab8eded7d12632af9ec9be3c0cf6378f86376',\n",
       " '0xd065ce9b49f20e097870b9188daa565b348da301',\n",
       " '0xadc7f7d0c48cc91bab52c0c40f83722531d863bd',\n",
       " '0x176f3d4e5aced77ad59357f899be5a52cb90da4d',\n",
       " '0xba1144c12107bd129307d7fd4350599d9426b4e5',\n",
       " '0x4394781e52716dd892d178cf43f1f8ee32ff20e2',\n",
       " '0xa3d22873cc4a4a83ab832ad370b8e313b61e9f03',\n",
       " '0x1908a80d1b823b724a92ade13f59cad75e3845c5',\n",
       " '0xf6ef34f297a8e293989dfb6ff06b320dd40d22e8',\n",
       " '0xdfed438aab8909854fc4bcbeb2a7acf7a58c4571',\n",
       " '0x7470435ee8d63257a47bc31fc4dedb08e84f20bf',\n",
       " '0xd2c3c17fb2790c09a8e5695efe396b4dbf9eaa0f',\n",
       " '0x31bd55b6149833e88d94beb506fed6b40c979f20',\n",
       " '0xc42ea2115c3d806eb395ebd210d64fe75810d935',\n",
       " '0xe0a30c22e73907584fd102b9d21efa50d7e69895',\n",
       " '0xe984823f0ff0cb1ea3d85b95bb44fab90662fe09',\n",
       " '0x1aaaa5ef4fdb21d4b02bfede98071eb123d98f3b',\n",
       " '0x2ac273294164478f26e53efdb7f18d4b6dfa7f68',\n",
       " '0x3befc9e8b9a9949f3d6a0fbdc9ced8df9b7d3922',\n",
       " '0x8899f0381840415ffd41ad53de2c38473c944de9',\n",
       " '0xa7fa026d56d7a2ebcf1ad17dec3825df3b034eec',\n",
       " '0x16cbe314e177c65a3f8dc9b71c22e1345e1c1a13',\n",
       " '0xe42fd497f6ff5cc7377de4d06c805733e0f0cc7d',\n",
       " '0xd7c08a2ee4950f83ef8251b9d0f9b8ca69493af3',\n",
       " '0x096572c00da7b8a99e6f19908d7310ef4d2ea5e9',\n",
       " '0xc7a6cbadaa537be364ea7dc106453a6c4ce1877c',\n",
       " '0x9ed574cfda5bd12e0b86ef4c2a7575c895d82f59',\n",
       " '0x69563308348070ac28e32c15ed57fcd1900890af',\n",
       " '0x3cbd2e6143f057bd49ffb4c7058217a5900c35d3',\n",
       " '0x27d4b4659b58ed2c272b950e4ff8ca9bef81613a',\n",
       " '0x63d1951ab2261d2bfd899fd2584c7021a5341399',\n",
       " '0x1fcd5a3fdcc00cf34416c39095b62ebd4f5ddb4d',\n",
       " '0x1a459461e4f75a77811fe12195b0f02bfcf9f9e3',\n",
       " '0x27a3a6512d03384bd08768b5595c553a09c1fee1',\n",
       " '0x7970395b5c4798a527e8366b90150f9680349790',\n",
       " '0x5f1f9f5dd9c272a8b29ded5a4a69e72fdcfe5fce',\n",
       " '0x05b88c39daa3311579ab38a0c1a9da64695d616f',\n",
       " '0x0613436950ee7ba204c0c1e8be0316c9cb5c1140',\n",
       " '0xd1e64144b9c9962f16ad7477e1ca3f885da53752',\n",
       " '0x04120683409eff90f877276f400d0b863987bba7',\n",
       " '0xc069ccd88ccb527e1f6295a17755ed8110b34ffd',\n",
       " '0x60d148c5edfd2e31e129dbc9dd07223d07f43ae7',\n",
       " '0x3acefc6e28dffc6fb322e574f65e4d770a17f20a',\n",
       " '0xee31d73ee3770e9b5f6d1fb15137113791002eb5',\n",
       " '0x882e4a6aadc8c3c585017881f9c29f4db93707c8',\n",
       " '0x2e4d2f375e5d74420fbdc98aba18eba072278a0e',\n",
       " '0x2ecd8c7c525c09a613f2e66b05ca065ebbb232ac',\n",
       " '0xc3cbedaba474f351b6bede1faa718baec0c82fd4',\n",
       " '0x92e5ae7f5f247bd2f6937f7cc4ce6531e69d45fc',\n",
       " '0xf3ad2b8ae19184749ce7d29947a42cddb5719501',\n",
       " '0x1a0a21eae5203b81e78d97e02f4adeb561c9b1a9',\n",
       " '0x5bc9df525924d39fbe92bf1c52eb5b50dfb4edc3',\n",
       " '0xde458e31d1fdfdfdc01feabc57955e582a77d2d0',\n",
       " '0xa39e11a05c496b0e84a49f165075801057301cfb',\n",
       " '0xf31ac15d3c27ecb94de3e9d7f257a31101ac4af9',\n",
       " '0x517f22f2af9a3c7a4f77e372ef9b6e2430dd2872',\n",
       " '0x21f954240efb00241b0853b4767eb8b9721e7a60',\n",
       " '0x1b85c7996c232c64be6743b115300e4f04864f90',\n",
       " '0x1d24a5fc3830acb4f66e43d011716015a6601838',\n",
       " '0x89d5408a55283ea86b392463d0eede2f98e64c59',\n",
       " '0x23cbbac3b194aa227698173922fa8dcf4eaa6c15',\n",
       " '0x2c7d77893a79ef7d887406dd7b620a2c16f0f264',\n",
       " '0x430e015db1b7dd8728195517d14102d25183d738',\n",
       " '0x6d80b8f12133afd898b50bf1ce96e0500fadc223',\n",
       " '0x643f527387f0979eb9ce3df24979ccffedc4c97a',\n",
       " '0xf8fa2372c719ca8fd0aecd340d06bdd4fa6c1ead',\n",
       " '0x7c4f7f3b8cb2876fde985f67032339dc73ef71f0',\n",
       " '0x67f83d0a82907772535f90d5c058ec9fc0f05155',\n",
       " '0x628e003e5bd6c4374f5697922d340b26aa4ea5a1',\n",
       " '0xa28ccffba2a3e265420018c3f04e366983cb864e',\n",
       " '0x279372b978fc66485961e0375733fcc97eaafac8',\n",
       " '0xaaaaac5e1a6c1994f769effd467920d1f99f6b12',\n",
       " '0xa881eb33e512ad00ecbd58e382c594188eec9f02',\n",
       " '0x7b3677f5563cae493f0aacb3ef2c5d5e88516dc2',\n",
       " '0xdd024c99bda2bcf442c7a1265fe6497ebde58b76',\n",
       " '0x142d1c7b6844e0f4ce3076677d676cbef4248a0c',\n",
       " '0xaa77827e4e7f4a775856e62c0ccf60284f6970c2',\n",
       " '0x79f00fc5160fccaee05033b22f1672556add99b3',\n",
       " '0xd4465751b4ebd4e9e3289d80730d4571a0dc9c9d',\n",
       " '0xdf325200678fc38f9daed59bc76ec463a488b985',\n",
       " '0xfad6db102f30678341400eb351ff77b7e693398d',\n",
       " '0x005c402e19c485e6d716ae2d6ecb4944e8d15581',\n",
       " '0x191f8de1cc1cd0859af4a04ec405a013ec07ef40',\n",
       " '0x55c96956bc580918cfbf279fd5fac63b7d6cbe10',\n",
       " '0x501ab6cb3d11f6f02833b5865928e1953d60792a',\n",
       " '0x9858faa5af874b669edf32d9109e27998348855d',\n",
       " '0x94c5711dbe35d18b6b4aa8476b3b8136605683e9',\n",
       " '0x2dba09e35e3244f6e39af86527c78c9d09c182b0',\n",
       " '0x21534340332d7df5f1cdaa9648d7c835d23cb294',\n",
       " '0x62661a7b6481f58e31dacd08f1a5721f3cefdd69',\n",
       " '0x34eb189adc4e2423fac0191842ec7b63d8e790ef',\n",
       " '0x8cb55a7e3efdaf3f3319de42b373c9347ca09e8b',\n",
       " '0x62b6472904999b2959a347626afe8221a143ee0a',\n",
       " '0x9d8c3e308d464ded53d3960568ec98b02140e96f',\n",
       " '0xda2687dbc492c55c8d3dbf65265264b8326aeaa3',\n",
       " '0xcb1826630b533deb3efe7b059473d0d509b1e46f',\n",
       " '0xad7dbca96ec2d5e352d10ec12d1f1b534cee2efe',\n",
       " '0xc422e11c9f601d25dbfa4e51a9a495cc51949bbb',\n",
       " '0xb5080d4cade1fb13632e548c56d79a0e215c5d10',\n",
       " '0x5f732e6b45e539c1b2b426a39387bbe534130654',\n",
       " '0xfab337f399de4044733d028ce43d5caa114cd943',\n",
       " '0x16fd9aa47b1f67ecc7a206aa434e3e32b09e138f',\n",
       " '0x6408891b540c2a61c63b14c3265ad295c70b96ce',\n",
       " '0x0aeebf9328bf1eb9cb3b30afc486ace76b86261e',\n",
       " '0x292b27a38e2bd90c88eacc1e4515a760ad0f0974',\n",
       " '0x50dbf522f581085cfcef869661493284dd492eea',\n",
       " '0xa0191f769ba703e102caf25eb10e829658b1327d',\n",
       " '0x98033f1b24a73b81320af2050182cbb9b724c3f8',\n",
       " '0xff8b6ce4e349cbbe05d7f3ea843e304ccc872956',\n",
       " '0xd3408a5e444c81b1b43708495255b84fd6d05915',\n",
       " '0xa03b60ea5c08e36347dcc7cb0312b6a589ddf795',\n",
       " '0x9bf864b8649b704a41b5e1c4eb53c670b80d6e84',\n",
       " '0xfee0288148371f651023a279227d6c498108fe9f',\n",
       " '0x5389e15ada38c95ac1a0954bb3c0b33a04d3e6c0',\n",
       " '0xbea68348d75afb3b7204f991df7e2ab7f790633b',\n",
       " '0x5c9982325773f51c5e966a8bc30f519c49d2d2ff',\n",
       " '0x9ac0bcf0c429ebc6597c60aaf9db5d9ac4c6d6fe',\n",
       " '0xbc3f3651a546a0ea82bff78f0dbfb1c2db8635ba',\n",
       " '0x1d1e9a5b73aa62b71eb4c41a7e605aa59d45f5ff',\n",
       " '0x78ca303c93d20fb6bce9fc58009d0d506a0eccc2',\n",
       " '0x618f71bec059931defc7308ec4047c5f01fde84d',\n",
       " '0xdfe825e4c392af8770d5d9fa5b993928e190d1d9',\n",
       " '0x0b79ecd2128ea2ec74681160da517f851b89555a',\n",
       " '0x01465d18e3038cd0a1353235d13a610822cfb8d6',\n",
       " '0x179586ffaad72700a9754b91df0f043014f06fa2',\n",
       " '0x1c09b3be75c1c942411e12773b3dda57967ad005',\n",
       " '0xe869cdf370ca096dabfb42ff6a2dc8444875504a',\n",
       " '0x75bd6906335c42d7d0abb1463a03578e9b02e3d5',\n",
       " '0xf159c5a9f38838606e96b451f36def200ce5ef8c',\n",
       " '0xa449111e7febc3c96a521f5dac5c2ad3e189af10',\n",
       " '0x5c6e16076497024cf4947051ed4d134ad925e0b2',\n",
       " '0xcdd746703c11272c11c94959397da4abf1361b93',\n",
       " '0x68e4be8a844ecd3829995c3e35c7c175ce45f4de',\n",
       " '0xbc56caf200e6cc274dd46e8a73b43b320e0d3f6b',\n",
       " '0x95485c29d4b08d2ed3b7e008b067d618f51852b5',\n",
       " '0x30d32985350cab469891a5c6e16b1d9855cef3a3',\n",
       " '0x198d47f730adafc598b0128fd8ebce247f2b19a4',\n",
       " '0xe7779b3e58297b351411b925ce084cb0ae7b97ab',\n",
       " '0x38e01757f37e1c50490ce065cea33a201042f652',\n",
       " '0x82978beb83debeb8e07c3641d74292fcc08c808c',\n",
       " '0xef52a14262d9a6325e64e53a7a6a114e4e4e7bff',\n",
       " '0x366e038cf91ca7b5be8cc37e79a24de5ce81f35c',\n",
       " '0x3c2835452eac79aab9171007ad9373bce1768eb7',\n",
       " '0xd5ec962f0895ab4b6e1950f16a8258db8e7bd526',\n",
       " '0x64549bf95e6dbfee4975e4b6bc47c0dc258d2b71',\n",
       " '0x41ced4907ea28b9aad27fab4b297d4151d8d7908',\n",
       " '0x8edc6dc73d016d7174ad1ed19de75b7a6f0566eb',\n",
       " '0x01a917aa805c72edf9c181488e7ed3c3c374843b',\n",
       " '0x54cc7155ae06410db75eb91b9414943b568ca15c',\n",
       " '0xaddcbccc23217b76fadc91251d34dffbbdbf1b07',\n",
       " '0x37d975d67a4627ef0e1278a3f37ba65d7ad04cfb',\n",
       " '0x12440466e907c9fc90531039c1da04cafd28e0cc',\n",
       " '0x59fbe88b93f57c10f447d59be5b0feb1379dca72',\n",
       " '0x253e5577d39edb95d62791eea98ed2712523ba98',\n",
       " '0x0e784599973683ac949351649305972582b8fb4d',\n",
       " '0x4e293a4df59fcfeb6177deb2338cd42fa8994a26',\n",
       " '0xcdfdbbbf0346628b522382cfa0405d9f06829010',\n",
       " '0xdf10a6be3d1c91c72e02b5e009c4661c14a6b482',\n",
       " '0x74d796064ad783235bc2c69e9bcbd38ce18425c8',\n",
       " '0xa5feb3afda37e34beb150d6e95efa39184531d22',\n",
       " '0x339ee32a29993ea5076a6a070b1e4eb1ff1a189c',\n",
       " '0x8d5a997fc3fac3667e8a1c7eea567ae44f873d75',\n",
       " '0xff282968cb2357303de5a8bbe2f8af1511137336',\n",
       " '0xb8bb4158e608a20ece08c17f8f1a39627446fac5',\n",
       " '0xb7298afda97d0491c275e5a22dcace6ef87e22e1',\n",
       " '0x89b8d85732a8704cdad70e017256bbc5a858c52c',\n",
       " '0x4fffe6dfbf1662b913d8ca5a1cb16beed5d47a7e',\n",
       " '0xa28f40de4ac6ce18193318a817e2edbc8ed9f7f5',\n",
       " '0xfc1632a250192e314b6f0cbdbeb002b9d370101f',\n",
       " '0x01e9c99be83ee39a4582b66825dd8dd376f2e199',\n",
       " '0x29d3e79083d5b734b86147d998f1e5db5342117b',\n",
       " '0xbf074f426be974d3fbf3b8fe365322cb240dbbfd',\n",
       " '0x72df2250053827f1a0461137952d29d56c5d0dbc',\n",
       " '0x4f70132c6ce84280e6a85b37764e55663a4f3ed7',\n",
       " '0x34da1d308f6aa68964fceaca80d83348bae206f7',\n",
       " '0x4917df0097a34a332468062d9f3e42692a8a6528',\n",
       " '0xaba6d4ce110774b004aab117185f69800b3ea97d',\n",
       " '0x0b3f4959d86fadb231dc49a592f81aa86ecf1cb4',\n",
       " '0x7827457364c4b26819bae3fa615177e19a56bf2a',\n",
       " '0xddeb0f6d08bb9bae2e5aa8416f6bacd8811c6321',\n",
       " '0xcddcce0f7fa50805beb094cbfb5b2246c2e172fc',\n",
       " '0x27befc842d9b20baf39dec759553eabb8328bf72',\n",
       " '0xc65566bc4e81f265eea37c5255b9f9f2654dcdb9',\n",
       " '0xd047b65f54f4aa8eae6bb9f3d9d5d126fe722b9f',\n",
       " '0x466c99d9911189c4b7ac5f1e319bbeb38fd5a3d3',\n",
       " '0xc353b1d742f4835b9ef4348dafeac8bcc1996e4d',\n",
       " '0x81de170d674f3a1c5aece2dcb56c6fca5f61b10e',\n",
       " '0xaf05bc69fe508bb118ea723ecbab971a725fb429',\n",
       " '0xf3fa7c873c75e782ca45624eb834cf196c7b4b64',\n",
       " '0x8b634e7a7c0046533af4150b0579c836e1a08777',\n",
       " '0x08cf91a9faaced123cc76b7cedb3d52dc10dd1d0',\n",
       " '0x86ec8f8aa693d6dfa469efa89be406b8a3b477ba',\n",
       " '0x8dddcfb4ca127793f387819794ac83241e14a3fc',\n",
       " '0xfe8cac7dc7ac38da9ba540eb4d1797d0417dcc41',\n",
       " '0x5de4efc3176ecf2e0cd186d98d0054f31c68c9dc',\n",
       " '0xb21a23d5795bf5d4e9a88792bc5e308b4abd1d5f',\n",
       " '0x2526206ef3b78aca36fe5f242e51693beaf0a094',\n",
       " '0x9ea0a05cd25ed7bfa9cfd888116105f66e691669',\n",
       " '0x5233cdea652dea815c541c65a4281207e83fa080',\n",
       " '0x6b135b121a76254cd500f91aabfbbd29cd51d028',\n",
       " '0xb01436e44ebff21ee0ffddc3671b8c3e8880ab35',\n",
       " '0xcfcf0fcc5340ca0f0d7175e0f494c5e9024166f4',\n",
       " '0xd83f56cf011717dada516dde42b876f45afc47a4',\n",
       " '0xa61f4a49c2a1a69db5438cf2909aa90cbe0795fb',\n",
       " '0x6a5f7328803fe00643664bfbe346dcb3170db4bb',\n",
       " '0xe5085806a2c0393266ad4505b90d8f09ad960668',\n",
       " '0x17b977e55996d44583975fc3b2bd76d4c6a2a7d3',\n",
       " '0x7a43f6de6e4cdb1abb8c51f74d571c203130c614',\n",
       " '0x5dcd847fba8323ab6e1a9b4bed1d7ebca1e766e0',\n",
       " '0xf06a24b6384edc9d68d5369ef1dfb1ca3eddbe06',\n",
       " '0xea3e366ef78069dc136fc41be6c894b786571219',\n",
       " '0x26fc0eaf9f8b9b8512aac0e5b80e812843656f4f',\n",
       " '0xddbd064794c87e72eea23e96ee7614f0f4ff407f',\n",
       " '0xca02418b946414d636f2e5b41b1e189ffaaee9a9',\n",
       " '0x385d9b37b6d8d959e00e95cbb19faf10e640fadd',\n",
       " '0x62773d917ff984e175d82aebf65d3206a184ab47',\n",
       " '0x001782c2e4e44ca66412776e9c4e095bb8bef228',\n",
       " '0x7622fc8d09f6fd1860e07f0e42105c6206d5fbe4',\n",
       " '0x9d109c5b3fb7cef8caf9e86aeeb1a542e09db71a',\n",
       " '0x72815393473feeb97b3037756bf287d5e0338a5a',\n",
       " '0x354c7ec48b1ca1cb36f1240ed6c415d2f770c174',\n",
       " '0xfc6829df2bcd474417165069a221e5731ca7dc67',\n",
       " '0xfbacf3a5f56da5ac0d022c95a5da564b545e8a89',\n",
       " '0x3b68b381be17190fd5d98e0ce54f9261d50d58d8',\n",
       " '0x141c1b5439f9d5e5cf603ae8af5fd7522ed64b1c',\n",
       " '0xa2c242d9f5f710f8f86002aac306f23c93dd5831',\n",
       " '0x29a47609ce9ef79ee0f2fd16ed1f3b50ce96087a',\n",
       " '0xebb735e99dca98d8cdf81e7bbea5e4eb23c3970a',\n",
       " '0x97f645bb52042acb438db498d9e041eff52dccd5',\n",
       " '0x961009f186581702a8913caced2d80633a48c481',\n",
       " '0x6ee37cd2d891f50706cae978ca1dbce5dc8b321e',\n",
       " '0x7db13ecbaea9fdeff6f99f7e51efe46a9c9a1caf',\n",
       " '0xf2d64e40ec621c7647946dc67fb7cf0df5b36f3d',\n",
       " '0x323430d3a0755795a6b4ec4a50a94e0ef0023637',\n",
       " '0x8369eb8e828f549f0a8f0c6aefa9305908516ea9',\n",
       " '0x6cdb49d7946104ee5bf71f49ed971509c030362b',\n",
       " '0x954e34cd703ad3b5b26f321f47195e57df570424',\n",
       " '0x160086c834cd645acb340ddf84c09a78709e8b11',\n",
       " '0xd4e01d376cac3c617a9d571c46f252cf290ad31e',\n",
       " '0xa0493968d9991eba192d3e023ef92c1c2f3355d1',\n",
       " '0x889f233e74f0198d39a9c5c713314e5011f0c6ee',\n",
       " '0xa3d6447cc8064d20816f67907a14b147f67aaea0',\n",
       " '0x7d2ee87af96d317b258cc386ffbbb58a94455aec',\n",
       " '0x63c83075989ccf36b78291f18c128d851a2607fc',\n",
       " '0x5926fd9588e86d2590c42e2b861ddbf802dd2f67',\n",
       " '0x8730d7ec6723bf64205e25b7553693d83fd1c749',\n",
       " '0xa6f65ea57c914d3fd60490a0d7afe7d29e7deb33',\n",
       " '0x6b7ed0d4454d6dd955319ac65f3610b63fdb2979',\n",
       " '0x32860fdc8b36d3f0b6d610593382e3b0cd9b9613',\n",
       " '0x5d3eaf54fd59e264945d2309fe2ebfb70c0fac4e',\n",
       " '0x34199986e394c042559962ad3f3a453cd1025f9f',\n",
       " '0x334cecd707c35bca4ec65ffe051d86ba366047bc',\n",
       " '0x429f4991f0d9c52c5ee07e051dfc17f09af5bddf',\n",
       " '0x35ed0b34798fe2c2dbe621d04f0a485dbb3de115',\n",
       " '0x1bd71e3408a2ddc6d688649dde3504ed8e173cd4',\n",
       " '0x547fd0091ab73c7831d4e8956f8b6602a4653730',\n",
       " '0x10e32b7f11338b334a118c7d785df50a325b1951',\n",
       " '0x655325edef244d349b01697b9a380c4b93b3103d',\n",
       " '0x5ea7acfa1ea225f900370f955508f943e64a4c0d',\n",
       " '0x33c35e8f21793b565bd294c94de46d9ccfa1c4f2',\n",
       " '0x658fe268292afb158940c74c3a5660d4bb1ed1a2',\n",
       " '0xdfbadfd6df02017abfffa8138a27661729859399',\n",
       " '0x5adc1bb3860621a0f13b4171510856cccf78df13',\n",
       " '0x3b2f64f171f9519d9fc43ead33a1db11ae1185dd',\n",
       " '0x75af4e6fd1a5f78a8204f4c909af5a36fe4aeb9c',\n",
       " '0x17a7ab43e1e42e16b781e8bb14890dba863eb2fc',\n",
       " '0xa88e88d3234278b2d09d08fa8cab386db4374615',\n",
       " '0x2abd7fe83d4672559fb909abff1dc548e5e8ebed',\n",
       " '0xed749648be3ce89b88b6c9d160dc7884307db2e7',\n",
       " '0x1b875fe9025dadb98652d5eb029d344460ab49d4',\n",
       " '0x1fc98ae3683f96c3d92b5a856bdb644ae28b32c9',\n",
       " '0x13aeee5cd706df8e9cfdedb90982cca7a4be8a3d',\n",
       " '0xcbdcc46d59ebdc0bc61ac265ca04bf9f714ceb84',\n",
       " '0x943dfbb9f17678eaaf97c9ff1a02a498c93a1bfd',\n",
       " '0xa93f56ec561a9a79e58e19f8fb605b01911d26a4',\n",
       " '0x8f7f326cdcc9f080b2202d482929d60a633fd3a4',\n",
       " '0xd14df6f43b1d564c5a8033fa6bbe59fd5cdf4fc0',\n",
       " '0x824148b1932054d059c8d2ec6ee1010eafa14faa',\n",
       " '0x1136a764bfbcd28c970cbc6e2a691953da92e64d',\n",
       " '0x03483c08db71958c29091141c32f3d203504ea89',\n",
       " '0x45708fb75d7570ba06b42b00f3fcd280b058a7f7',\n",
       " '0xa08d3d53bb1b9802c1c194b241be132fa0b03d82',\n",
       " '0x002d9cd37b0fe571f0c3515d40cdb1830a377b60',\n",
       " '0xfacb57d5b4309309795fb8c3499935579bc03020',\n",
       " '0x3cb6f679bc8eb59a38262f6e7ef8a3ab5bbfd622',\n",
       " '0xb6a66cb234ecd27b4e45537acef041bab9ccbc65',\n",
       " '0x846ff0119f95867791660b8a05df28a19bfd50a7',\n",
       " '0x69f804b55630f1d4e37bd1d5a465ae96609a2fd9',\n",
       " '0x925fcd13d8a91e7178b583163a7a79e671189ff8',\n",
       " '0x51797248a1eb32c473710826928a33f4fa3090d7',\n",
       " '0xcc2a8070cdda712c0f68172dc1fa22d2062413a5',\n",
       " '0xdcd4bfd6022f1c6b2a766055b4a0bd6cfc9e9f35',\n",
       " '0xc8114e3e556182b040ce52b8c222013d6995de3f',\n",
       " '0x17f7865737200837869c976bd89fd35f6bbfba1a',\n",
       " '0x9f288cb9f644f23b84103434762dfef9cebb6e5a',\n",
       " '0xe5fc5cb43456cd7f26be9030abe498dc7712f4ca',\n",
       " '0xf74a28556294b4e03337f0fdb5e33608d5bb17a6',\n",
       " '0x0a18d2bdddf244a635a4316aff9f8e47c140d7be',\n",
       " '0xab0ffef5ed8c344659c197805ef3d0c31f819e19',\n",
       " '0x4437a24e9989ed2e36b2b71ddb5aa9c1286cf596',\n",
       " '0x715e61df4c259269341103aff54eabd659629687',\n",
       " '0x73f3f18eda8cbb1b59304311d08a471a222fd1f9',\n",
       " '0x15302eb70cc08bcc8ef82e2eb65f20106a7ccb46',\n",
       " '0x99dd5a12a90308fd0ddaa3e79a43e3e20b460b56',\n",
       " '0xd5075c3feb409d7e38c65b0f099c2ad187af9633',\n",
       " '0x5c31ab79f826690dad244477f43b10f6130ca42d',\n",
       " '0x45f737380ab35e60898577c34b56ae2da444cf3a',\n",
       " '0xf13ee3732dbc24e85364aa7e95ba792345b84214',\n",
       " '0xde3eb24165dcea56deaf77349c087903c0f9b633',\n",
       " '0xf3a47aabe281e148d2043c028749fc6e61eae396',\n",
       " '0x949f89f73d255d81587a43b32debf2492d6d7a7e',\n",
       " '0xb417a018e39e062115a4348729898843e283640f',\n",
       " '0x3da88852074652bc32f6f337744adb737122ea41',\n",
       " '0xa6dd293c7c01a87ee4f054a205221653c0a5abe2',\n",
       " '0x2ff05a77737893b9e9feeaa92b51c59111fde967',\n",
       " '0xd672e06318a2272e8623291e0fad94d2c2f5f630',\n",
       " '0x81db90d09d989c1b6a4a044399d312ec13a1dc43',\n",
       " '0x35b414a7287cef121b41eb3c6aa315f0ba1cd278',\n",
       " '0xcd99637e68f4ac7153f465a099f8f0a8a8d486ae',\n",
       " '0x61ddc1db53456c9caff83f47dc6f3150e11168c9',\n",
       " '0x180066f9d6dc5fa6162794890a519e672c018704',\n",
       " '0x188100e92943f475609d2d73e2d043dd237e562b',\n",
       " '0x3805a1c19fa2df224f80ee762f0f356f92589881',\n",
       " '0xd82b7149341b234b0ba233be84d3bd7fe027c96b',\n",
       " '0x69970a894e774101065ea7d35fe23b55c00ef43b',\n",
       " '0x01212706c6aa5b21a3948b331a46ce1260be891a',\n",
       " '0x6da4c6d707a2745d4d889641cb536c96a36e399e',\n",
       " '0x47b4fecbe3d42eda8e15e137f25178d7221153fa',\n",
       " '0x0556f09b77fac89b1a4909294cbb704ed466087f',\n",
       " '0x88d86225913926d01d9d00cdb10464bd57adaf2f',\n",
       " '0x7fbb1d2268c640e66fb1fbdd6f70a41e23ff9d1b',\n",
       " '0x9511462a9679f2d357f1c079be8ee150636d81e6',\n",
       " '0x96d08db4c68d9169232a8b632cd8c28c2a3172d1',\n",
       " '0x4134167764c0ff6ac5590d0f90ce0de42fc003ed',\n",
       " '0xec9ce0a4925889a92c1ad3917dbfb224e48daded',\n",
       " '0x70e4c0cd810243bc352d0bf0c225d4ccca8991e8',\n",
       " '0x18e76eb7e572752236b712dff7b2ef5e324144f0',\n",
       " '0xef0b91a1d9f0a0e3b6360de7b072b298a25eefe2',\n",
       " '0x28e3745deab132b58c67a6bd8afcdc81974054b3',\n",
       " '0xe46182bed0236509f898c13c376c604e892aaede',\n",
       " '0xe7c3ed402fca89da3dcde69656a2e27798f653ca',\n",
       " '0x3654156443d5b3271ad86a5625a10576ac2926f4',\n",
       " '0x3347fa12bf3309c7e57495ddd403b0c439f0e220',\n",
       " '0xfb6ed1d58d146a8abf932267f9891d79b1bbd2c9',\n",
       " '0x67b759f8588081262345cf2b4b84181fd4378b74',\n",
       " '0x982a754bd6824cc98bd154547fa65f8ed59f38c2',\n",
       " '0xd6e0550ecf9fc9296bfebef783eefa0a831e6de3',\n",
       " '0xef7b0f5eaa1b21554fd80e8b3a67ea7004aa8865',\n",
       " '0x8c3a7b0b7c402c71c9d2e08a2928e15ad884aa98',\n",
       " '0xeacd1d37ba78de01c2ec8ab1ce914463b1c0bebc',\n",
       " '0x65e25b375e12c3ad323df959418502c43b176e29',\n",
       " '0x681d02a7ed4ab2517d57c06c0eff1d6c8ef296f4',\n",
       " '0x76f91dcf2aa8f542a5baf8ac9b06b074d80d4015',\n",
       " '0x762d7b52b22a50db2d764265c33f0b79c2645dd9',\n",
       " '0x6be3534411e2ec08dc081601fd7f9f75e291c6c0',\n",
       " '0x77c1de50185054d69f192299d7b34d4900751125',\n",
       " '0x8a9099ead1f99e3e52a5224ee9ba15fc091229a9',\n",
       " '0xf32de70e5b6666e079f72f040fc22a5a8e0d21a3',\n",
       " '0xdef9ea4cd54555f3de316596b9306eb390f91144',\n",
       " '0x9f8c353a797fd323b606e9ec908d95038769ad1f',\n",
       " '0xf6a616373c16b1184eb376c448fa761fb2a684ab',\n",
       " '0x319a7d1a90447df1ca46b3ed314291b26324e38f',\n",
       " '0x85ab66d5ff8c682af340df949a4120d7fecce5bc',\n",
       " '0x57e0d4d8d6e0db3c3507d0e30a2d82b0207328e3',\n",
       " '0x874658ce47fc071160563ea3dc4994540c4792ab',\n",
       " '0xa31545e5f7d4ec0fabf76005064b0577fa0680a3',\n",
       " '0x1bd16bec65f1522ad7538f6689a8e1568046f91d',\n",
       " '0x0e11a20c8f56d3917485599ad28aec99bfa489de',\n",
       " '0xd8297640b8878c701a482806d3a8d44488b7ae67',\n",
       " '0x1f754a9b2f15ef6a735e203b1baca652ba9030ac',\n",
       " '0x7e3d806895741deaea66dda5b7309cdaac677a86',\n",
       " '0xad0f080f30ae712c9eb5784448a4bd979a6f8abf',\n",
       " '0x45e8abe9daed0ea13ea07d28ecc308cd8ef56b48',\n",
       " '0x2cc68ea9c1fea04eda68aa58101157e17dd31732',\n",
       " '0xabb918e824708eec9d07ee113f2bec3899f94020',\n",
       " '0x01a45f7fbf7453092e49b6db137568f9cfab8ead',\n",
       " '0xbe0027086b7cb1737e441ab7bc195a7c36b2a295',\n",
       " '0x83f2e8b691c1259b550b77c6b6e5d35c05f62bfb',\n",
       " '0xdd77d97105f948a2dd2695789a896de7c1a47bb7',\n",
       " '0xfe56557ccfa3438b812e0e7c7a8c778053c4e4db',\n",
       " '0x7c34f4ea1374e09c34222a85014e8f75cc9b793b',\n",
       " '0xba21eaec0c1c4564db94e0a9385051c7fb8309e5',\n",
       " '0xc6537257f827ef5dc55af5923b16582c532e5185',\n",
       " '0x5a5f892d3f1ea27d09ff43cea1f14471e067784d',\n",
       " '0x404ec16062d85476524748b12b13ca3b995fa308',\n",
       " '0xa13d221367005917485c299a2d70a290959a4a04',\n",
       " '0x12fcd54b011991245bf7b36d996d5441d4d3778d',\n",
       " '0x0da3fb763f5252bb4dba89c205607f3b79d5bb7c',\n",
       " '0x41479eaca0c44eb0c20c015b34eec983a68ba630',\n",
       " '0x3c433e49ff95c6aff67b0f01237f53f90720bdb3',\n",
       " '0xd73f602534181431812fe9d4942f83780fc19331',\n",
       " '0x43b35eaa029f57e0764fd4d14b05dd6a91ce8c09',\n",
       " '0xe5face4f3eb3ce0c9c0b6f0f5dd7aefd3a1b5e6e',\n",
       " '0x8b9ded0cdb664519160faf40422a5c5de93ff95f',\n",
       " '0x4516a39483ff017632edc4db54d3e3eb2df3280f',\n",
       " '0x70730e29871032fa2daa7ac2ffa9ec33a8c8d80f',\n",
       " '0xe0acaa9c3f27d91ffd2a9a3457d681ad2d15b2ba',\n",
       " '0x09617b4c73729742983035ef1d9517f9b08ee9ff',\n",
       " '0x91b87216c2804a9eebb24d7d368ae0e7ca209fdd',\n",
       " '0x8d4457525d382509f22e19044f5dae4b0ff41fe4',\n",
       " '0xb5e902ffe6723e1a6d3f2859b698b4ed0e6a4458',\n",
       " '0x1100ddb235f02aaa0eb762f89fd0ec880cb47abb',\n",
       " '0x297946c26171008ba8c0e5642814b5fe6b842ab7',\n",
       " '0xd941b6ef46589a47d492f32caab6fe3ad185a53e',\n",
       " '0x3de27bec5ec7059d49df15ee2be7f020a309f8f2',\n",
       " '0x02e09145a894842138690299cb06a4dfceea862b',\n",
       " '0xcf3d1c4467c462ba97bb699ade17a2f3c26864ad',\n",
       " '0x5ec080152fce39e1c336a67979cb3f11e710861f',\n",
       " '0xa690aab13b446cea17b746d2b9efc620fda0bef2',\n",
       " '0xbb176e00c6fc49175d1456ccb3eac88283e0b6a9',\n",
       " '0x7d2e7fd31f3805ff983d7581a419003881422ae1',\n",
       " '0xabc1f622bc539c4b520cccca12ba17f4c2a50e4e',\n",
       " '0xf756e1d53217c9ceeec900456efd7c0e019c6a34',\n",
       " '0x8b2bc3b4571d122d0b5c99f57cb3fdb374dc02ac',\n",
       " '0x907439483ad9d956e0af0e3313c0dcf41e440fc8',\n",
       " '0xdfa766de728e73549d9930dc0bdcc2a3ad5ad208',\n",
       " '0xa7b18b0e94e5a0037aa4563d0c1e8b6ba8fb1763',\n",
       " '0xe8ee754d94c8f7ac7538d8a685a9cf1279fcd99e',\n",
       " '0x54baa18644b33adf04024786301f2de15668ad27',\n",
       " '0x46101fb52d46976c89427c9ec3e3258ef49607df',\n",
       " '0xa6a4049bbb0275027a742880a8f9126574de8f42',\n",
       " '0x1fe0650287917c4974608d4f3233d48573273f3d',\n",
       " '0x8278f88158d12f7617701a7aabd98844ca9f4d80',\n",
       " '0x12bc983c5557e7416134caeb56f474081d2fc2cf',\n",
       " '0xbf51036cff4599d4da639e46efde2558b850d7f7',\n",
       " '0xd38b2859cbaf492d7eb97abf8f26885c4941496d',\n",
       " '0xaa8bf2761019a657ab53b9a1b54e03f0936d7b4a',\n",
       " '0xe200b08c083121271c4a319e3b2862512588fad0',\n",
       " '0xc77dad884666c13c2660ea7347b3b64f07531aa9',\n",
       " '0x651c0b4b536826e03402c3e0b1317cb6756ebbb4',\n",
       " '0xb81e88279f3208001aeda20689d3e5d818758dbf',\n",
       " '0xb04d356069d3e426616a569468119e8575adc8de',\n",
       " '0xe4321f26de2f012c21a876e20472aa672900c7ae',\n",
       " '0x9e14d28f2927cf2b16121e2d05eb427c7c9abdd8',\n",
       " '0x735278efc43df73c5292e1a1d3ead3eebe565221',\n",
       " '0xd18c8c2c56ce866ddac60818a9cd9001ed3eae10',\n",
       " '0x4901835637282236dc6292cd405c393c5f5302c6',\n",
       " '0xce8769717a0cf552105c24e0e351f1987e0c05b4',\n",
       " '0xeb97e12e62ff428fa6dc0f7a32dea9c065f73dd3',\n",
       " '0x31eddf1c85591057c9ef454f3b9742aa9c15e501',\n",
       " '0xf38f01cc25f245da8f6d73d106abc2db7d5ddfd0',\n",
       " '0x4bd1ff4bc68c84fcf9a443167458c5ba39d89361',\n",
       " '0xabd0717aff39ab33303c478388af9d50ab18a188',\n",
       " '0x320ee1719159803f055ac35bdc026224476ee48a',\n",
       " '0x2294e4ec291f15599948f320516f4359671778e3',\n",
       " '0x5d3595f010903f1d5098a4a6c3bf15b91510005a',\n",
       " '0x0d67e54215bbf541dfd8763a29749332ea7c0041',\n",
       " '0x86416f40c84b412cc246ad77bfa53f2d54cd685e',\n",
       " '0xa38a4db9f250dcb1df22a438d3054102c17b5aeb',\n",
       " '0x110c9d7e749cf26f9f9c0e3ea2670a6f8d745d60',\n",
       " '0x22e504300d98012a4e928efe5a00ca618cef0034',\n",
       " '0x2d8fee04e3036705f33916d348304ffd2e3b6506',\n",
       " '0x126c80b53ebc93f34e2d609b6bfc668788adbb3f',\n",
       " '0x78f3ab37cb11b02e4016bd32aaa79b814af20eb5',\n",
       " '0x5dfa391663627ec12eb00ba1426966118891dd50',\n",
       " '0x8ec3c37384db0146f284fafc75719c04b4202fde',\n",
       " '0x1095474699311a8e518bf1cef4609b6e1d2a13f9',\n",
       " '0x1b5173ce70b427132925e981f6cf2cc111bceb81',\n",
       " '0xcc122f55198d60bcd9e6b73dec9077f4f61c8e58',\n",
       " '0x6220f8ca258429dc2a2156b1df84053549468772',\n",
       " '0x5144ab33c813b9a3ed879c5e94ee28657ada64b8',\n",
       " '0x4b4a671edbdad828457fe9e39ee4ca164153e4c0',\n",
       " '0x8f08c51bd8983de2729ed117f6ae99fcc86e69e0',\n",
       " '0xf2a81cd30c6b2bc59ff24991eb9d7524203a7076',\n",
       " '0xb8a6ff7d1fa637a4ad1d8a0ac14c23dd5da0a078',\n",
       " '0xc3ec24202a43e12f5f5cca1e888b1e4e1f30f9f3',\n",
       " '0x97a08b32e8a719564aee1844728c125c0836bd1e',\n",
       " '0x7e84c6ac276d082a98f9a9e120f177db1cda12c1',\n",
       " '0x3a70646792620b8b68040fcfd37fef3ba43d55a0',\n",
       " '0xaad5c18c8486abb36425772132c654d83cb53d31',\n",
       " '0xe089006a9f0877d543f44f45c61cc01de32f3d41',\n",
       " '0x6a07ea6886ac7728cf3ce4d276cac21142d35e76',\n",
       " '0x5ae827a7e1669c7b0b88b34037c3a4a5d590b394',\n",
       " '0x36248ff09686ac2dc62aaf1f69fca764a35eece8',\n",
       " '0x800feefaed461a2c51ca19e97f93728e5ff3161b',\n",
       " '0x3e69e376692f6b901657913d413388fcab431ac6',\n",
       " '0xe7a97e4989f03559f14ce1c82be6bb661df6a844',\n",
       " '0xd64be54cf4b745bca0de521fe871183f8efb3616',\n",
       " '0x964f376aa9af41e7afcaa3b7184d7cb40f01b153',\n",
       " '0x8d2d21e22bf0aa1c46bf6851e867841cec3d2171',\n",
       " '0x601a05924499a34532ab236a7214ed23b611b61d',\n",
       " '0x0d9922ed92f3e055694d6f2f028fc12615f026ed',\n",
       " '0x2be662443e473ff086577f76ff221e600b052c51',\n",
       " '0xbd8591a0a9303dc13bfb716d93a088b8cdc63618',\n",
       " '0xb5a87bcd80374a9dd91fbaee6fb96b3cc65cc803',\n",
       " '0xeb375e8ecc7d9883f13f56c231ca911d98dee96b',\n",
       " '0xbb1492e455a6f82382bb7e8976e78e20802eae1e',\n",
       " '0x0a3204a67461c57e1260f83ac58fd9178799c89e',\n",
       " '0x9a6f7675676c3d031a45fd1661a8d05885fe7b67',\n",
       " '0x1cd0b1b9fae4e4d4204eef7c273e0ac52374790f',\n",
       " '0xf075262721cd748d71fe546f80d80d7e83df0390',\n",
       " '0xf9f03371aa9854fda7faa59be08d2e99e51eb33a',\n",
       " '0x9b2a0b21c82bbd804664d771618dc5160fdc4443',\n",
       " '0x7116bc02addc949e1ed1d0704c9ae0c6d1e49788',\n",
       " '0xc6b003d1e0217c8cd8452a8e3ea91edc6f291373',\n",
       " '0x7dbd1efb6a0882db72a7bc1f404e3aa2e6f14aef',\n",
       " '0xfcb0fc7b28718da18b45d00c39f05750c7bbcb9d',\n",
       " '0x69f7be9a6f7a04f7a53f7129f1e68b1c88ce0a7f',\n",
       " '0x4ad1088a36aa9d6aa1aa2974a148840b62696eaa',\n",
       " '0x673d7c085acddd25c643c4dda84d48a6837fd745',\n",
       " '0x838679ca7f9b98a2f700a1404c081c3aabe84328',\n",
       " '0x5df2ffc8bfc2186737b0e7ffa080dbdd62c054c3',\n",
       " '0xd8879cd4ea8748b081ab11ea8ea77dc145f63e77',\n",
       " '0x911639a581c5fbab5b27563f02f2cfe9bbbf95b0',\n",
       " '0xc7e0a23d2ba5a82e5777e3b3897e8776b7f4b73f',\n",
       " '0x05af63b996725324382c148c6e4b1e35d00ba1aa',\n",
       " '0xf0ab396a474be3bd9174b46aa5ace63b19bd6077',\n",
       " '0x9591544d246b3c21b82579c60595c79e6da71ad8',\n",
       " '0x0d518972f9a21f5cede59e7467fecef0698db90c',\n",
       " '0x2d42be79eea0de2ae42c93716f4d3d62f71f2511',\n",
       " '0x74068f969fc97b00252d44793168af1117e51073',\n",
       " '0x769d7ecf84f24b9858946fdc67f01a430261cf14',\n",
       " '0x5110b6e1002bb52758ec1f04647854095f79d6dc',\n",
       " '0xc1570783f6acf18e95066294435a4040da4e2b68',\n",
       " '0x7d16cfb1c460d8903b46d34a9d3f169dbe0da50b',\n",
       " '0xbeb60166d841965dade1b83865a5eb00ba29a808',\n",
       " '0x799329ec52db90cab0b352cb2a70f2662f5340d1',\n",
       " '0xc28d960adaca4ff4444e467f19e0eb2957f66e08',\n",
       " '0xa6d6b21a20a44980d689eb701fade32bc164a661',\n",
       " '0x4406c40c6038ff6b883930c1002917cd51b939bc',\n",
       " '0xb6081fc0a0fb47991b222f9d9e586d7db5328b10',\n",
       " '0x05dd428117ec784f971faf1b1a8da5b62dfc2238',\n",
       " '0xdcca9ecde43cfa8ef82dfb36c99346a8310204a2',\n",
       " '0x16be9fef01ce5597df3f82f626741bb1fedeb365',\n",
       " '0x6f7521984052633e7496a6b1a73a3a0ef2b6ea0c',\n",
       " '0x08cc891e0ec34b3f556b2ed5989b8be1bf34dfd2',\n",
       " '0xf2d040219824278514d6111228110b4985021e8f',\n",
       " '0xe0704e81398f3860952a384b0933deed12b6aed3',\n",
       " '0x992199e1773fff0eeaf0fd1d38de5aa0e0764f4a',\n",
       " '0xb44e0e5ac3bc9d45812641ec1ddb781f128ff2d6',\n",
       " '0xbcd56c78fde615296ec67ff7a0700bf5d34d1f6c',\n",
       " '0xebec8c744dbe41d1d4aa34de01408ef8843fc604',\n",
       " '0x95638301645a9310161301f70b2cd8f83bee4ced',\n",
       " '0x43ba847308184f962ea950aa4a32fda61f553ff9',\n",
       " '0x594666a701280874297051191c0d79442add8178',\n",
       " '0x129d3f4f0bfa3f16e67dd4eccea4240dfef9665c',\n",
       " '0x4c2799790da07935ce5f5f5d03e753fd44330c66',\n",
       " '0xb9f66aa45e9fb46d5889e0e74761f127f6dc93ea',\n",
       " '0x9b96b0c3303bcba5cde7eb6b673be8c44119308f',\n",
       " '0xeecab72fbc095d3156580196a72b46cdb9748f9a',\n",
       " '0x5cbe9614acbcdec36c298944207ea4b99ad52e8a',\n",
       " '0x4cd85c810c6d7317f91592b1dbbe4dafed069669',\n",
       " '0xfaaac7635b42d8c25e7dfdd025d0479ad9074cf1',\n",
       " '0x8631d6c8efd644cde9a03120de9ade877685ec14',\n",
       " '0xb5d548df0c5456bf9ce4176e320c056ce10acc1a',\n",
       " '0x3002024bf7e0a4e8511905af0f21c2c3525b158d',\n",
       " '0x5079c9530827edcb9f8d1167ae2a37ec9d7ee81b',\n",
       " '0xc0d26c3e30b9f24a62ec16613f80dc668d9b14ff',\n",
       " '0x42528533fda02542641bec0936a3622e336a36d3',\n",
       " '0xcdd6f934ee90554196407e64ef69b38f790193d7',\n",
       " '0xaf36d6a59ad99399ee2fca4924ad1d259544f9d2',\n",
       " '0x004b25e3fdd0a8decc772e3b6d75474086b6d8c9',\n",
       " '0x217b2f3ffe9abfa20db02f34799e5e2f4f11e8a5',\n",
       " '0xf7187d0db27d1394f059581989f984238eba7d14',\n",
       " '0x1549f9dc5ed2ada0153788e735fb755c0de6a855',\n",
       " '0x731ae66d6469423b0a06011595ba44fa587c25ea',\n",
       " '0x1a28c12dd87ce40068274e4cf4d1efccc44fc437',\n",
       " '0x4cefe757e769c3ed81f8ac5c139377e655e40f9f',\n",
       " '0x1d25d8b8bead51f0fe731c1587ae1b10a054853b',\n",
       " '0x5bef4d5e1f39e9cac502e4772290d91e601988ef',\n",
       " '0xa91cd65c83eb79594474e47a50acc90b23908253',\n",
       " '0x4a565265981622521b8039cf4a1d8789bbe44803',\n",
       " '0x7d9ceff42bbba9a34c1b53c954995968fa8923f8',\n",
       " '0xa369845e58ab6789540bedd04ffdae8f06c1ff37',\n",
       " '0xca1791adec74764c417203ed9b384bd38327b738',\n",
       " '0xedc14e8b6dcdb25681f7cd9111a712c8e81950d2',\n",
       " '0x2ec7947f3ac9aaaa44b53640506cdc9d848d9489',\n",
       " '0x3bdb90be3466b360da11e0d058c32e605b330fb2',\n",
       " '0x8711a7342be5e3f1349e1371beb54642dd1527b9',\n",
       " '0x3cdd1c7ad1550bcb0dc82d53a97c5919da673e5d',\n",
       " '0xa221e0b494b0accc452fbfa75c886c1b705b4cd4',\n",
       " '0xb4c84e513299924cf0f354673f07837c9321c731',\n",
       " '0xdc97dbc727059af80fc428eaadc3b72ad1945bc6',\n",
       " '0x1c38e831d9da5612457fbd2ffd79283cd8df29a1',\n",
       " '0x320b9ee048337cc28d5b0bc9db85528c687dcf35',\n",
       " '0xc0c49ed8719ac735baa901a0ae7228dbc7c8b29c',\n",
       " '0x28b424cfcf80f9b7678d83b4fdb372ebc3f34160',\n",
       " '0x00faa710c2d7a1a3a16807b2834fc221d26975d4',\n",
       " '0xe4d9334ea76cccce99eef7b6c54bbe7a5b0c9921',\n",
       " '0xf7fa3084607ffd4232657472bf4165934d36077b',\n",
       " '0xa19474bd4cce61963f19351c40a5d72dafd4fb13',\n",
       " '0x80835a3713ae5129d72497b1895addc7ad9e05e8',\n",
       " '0x8d3de05bb7116f68389e5e90b58efe716ce2bca6',\n",
       " '0xccd81f791889301ab165bd42b1b32fec527bd47a',\n",
       " '0x06466ba8c6d64e7d32b88e399692cefd60af702d',\n",
       " '0xab45ec8cf662bf8bf00bfadde8659a2b71fab758',\n",
       " '0x9aeb83e4b4bf2f296839c042bb8019728e960210',\n",
       " '0xfb4c8248c62f2ae9fbdd0a1ca218daaf3a742d6f',\n",
       " '0x950ac04db121ff32f99c6152a2efa2cbf5944301',\n",
       " '0x32a72c27ca6469651f98e30addaf8d3de2bebc1a',\n",
       " '0x3c7f654d8d67d8961b9e4d781550ce7f36f8cddd',\n",
       " '0xe17fcb52db31136ae8ec9a9116e2f34f7e724ffe',\n",
       " '0x6f9b7f5595a35d492b21a1bacfbe94dd6fd7397b',\n",
       " '0x1a769d8272efe0ea5b66ea349a6b47710193d5c5',\n",
       " '0xddbc8eca188a05822b5235a11892f22e702e38dd',\n",
       " '0xa39396b6e8bc6444e362ad202d3a7ef17e7700d9',\n",
       " '0x0f11399f50203857964bde157b7c649497bed89c',\n",
       " '0xdbdcd3be1e1e4664ff7b7326a03ead9773a73b0b',\n",
       " '0x562308de7006ee6f4158675fe11f8099b0c78b49',\n",
       " '0x6d6845666796430e28eb46aae5e05fb05e81115b',\n",
       " '0xf5cbb183d0d883ce8b4a1964e4ff85b4d5ad4746',\n",
       " '0xdd7474e927b4ae96eaea234c60c97891fbad3053',\n",
       " '0x499c9317443b7de0a814ccf879a178890470b306',\n",
       " '0x846d22779ba0fcb521c202d3e2b94b9a286ba33f',\n",
       " '0x1fcef5c1fb71df0f2f3ac6bc222c5cfab1ef0fce',\n",
       " '0x7a7204cc9dc3b142052a5587e128775acfaa0ba6',\n",
       " '0x89371ca744a7a201d285c02202f0e32e76a9eb7b',\n",
       " '0xfe0f1583a63fcf8f8bb326cf95eadfe880903565',\n",
       " '0xc880fe441e73c90836ebe0d15472c19dea087f87',\n",
       " '0xdc90332580f8578fa2b2f8046e8ac0812a202b48',\n",
       " '0xc9ecd3075255c4230f877d115f0e01d804b196ea',\n",
       " '0x3df364ed7e8a887f7f9c240f7e281a4ea05ce03f',\n",
       " '0xedb9af3554fb97bb213eb953ccf0c8ab16b8ad6a',\n",
       " '0x67f1eeae7419c7711d370402b4c2237eca1e8345',\n",
       " '0x8190f06f9917a43b30ca6ef4781e13df8f5b4f4d',\n",
       " '0x51c2594bba37512626efcdc191c1d4fc2854af12',\n",
       " '0xc823d2f3b4c126970353806786066f4495ce5300',\n",
       " '0x7c28886f9922fb649ee27d657b80d6d553fc35e6',\n",
       " '0x07d010d681eec85ae0d7fbbd6afe2748fcfc2175',\n",
       " '0x74934364a6324586aa449abe36603636ce631a11',\n",
       " '0x0e7443131f29b7ad27cb66c53f48139a679e6195',\n",
       " '0xbb144c6092c203e505ad69e70b6018ad4880a71a',\n",
       " '0xa41c5164662e73283657ffa0a46f93c28f3b2a28',\n",
       " '0xe06a181a7caf3c42dc82f9fc605b3613eb04f5f0',\n",
       " '0x834ae7c848c6d9ae0ea6baa39c7ee202c3233ba2',\n",
       " '0xb9628c244acba8549b78866f486dfd9d2667df71',\n",
       " '0x0aed0c4092c316558e9fdb5139a48675a681a8f0',\n",
       " '0x8898b299b7d618a6c9234ad4a2cdbfc8583c4985',\n",
       " '0x5d0e67b863bea168d2eea9b84ac09a197e8f940d',\n",
       " '0x34cbe8e79a461a65cc63a147a48d047a12fea78e',\n",
       " '0x42b81491c0850a4a1c0c822ee07d442dde58fccf',\n",
       " '0xc95f7af5661ed6ab534f3c8dbfa9b064e7be3183',\n",
       " '0x1fc5796b5bd20e8a988a23296de9f892dd224b56',\n",
       " '0x9281c5f81490ec51ebd4e1db01b9d9cad2960ea5',\n",
       " '0xac2817c24baedfd6f945a25711f3403c8ea376b6',\n",
       " '0xb87acb7e30e3a2ff81ca90b88745051a19c0698f',\n",
       " '0x181a7e48bca51e8a2ca7d3537042b29b77a12c01',\n",
       " '0xd3f11fc9eb1889fcd5ef1cbf63cc6732be909c89',\n",
       " '0x247749973bf06198521ed5384208ecb27dd28186',\n",
       " '0xc7591926bce6fa3d933438703c3fd9925287bba4',\n",
       " '0xa9760bb540fd865a22dde516f60e5fd2ee38d6a4',\n",
       " '0x14713a4e4002b6b2637cc41315de95c8ec2d4bfb',\n",
       " '0x378f3c38b37680b02cbf01066463a23af2420f32',\n",
       " '0x99f0f2237b2da2acb50905455a9fef797539265d',\n",
       " '0x1f0ae1a1268176cfd035e1a48c7345343f64afd5',\n",
       " '0x6cd89be6867d57a810de8c73e1fb230fcf370147',\n",
       " '0xe8ef5dc1f061221a0088488453aee55d81f8487c',\n",
       " '0x19e87852c7f6b9e736f393d5afa3c7cf79a3860b',\n",
       " '0xde1fcd1f37ab67e6eec0b4c984b8a3f9a36268cf',\n",
       " '0xe49c546a18b9eaad9d73acbe215f5f0b68fa2971',\n",
       " '0x27c1951091482f1d7b577d8da2d74fbc382e19ce',\n",
       " '0xef394c4d2db9b442860c926e1608da512adc3662',\n",
       " '0xc48e965f4157b84d3e76107d81603a8d2af74178',\n",
       " '0x11a93d51c4f8f358cc62924a83bc2961644a1eb8',\n",
       " '0xa9f6e0a55d0b475d927461cb97d417bb6220e197',\n",
       " '0xd24c7d42864b14e70e51f37e8be22a49897bd845',\n",
       " '0x474f1aeb67d784b7ece828e569f680d6291b848f',\n",
       " '0x1438a5194387ece545be8228b594b474a39909d4',\n",
       " '0xdeb0d7d1a1992767bb0daa9cb8473fa486349aba',\n",
       " '0xf548be891c69fa691356708f31fc296db122482e',\n",
       " '0xca833ac2015529dab69c4942ce579055c5b4b2e2',\n",
       " '0x7ffe499710740e0bc25532c2d286afb0161694d9',\n",
       " '0x74276184ff4d55909147120d88862164de75ce71',\n",
       " '0x1c5031b130170d372e8d603f19b793e195c25a46',\n",
       " '0xd73892a82f4b69c56b885b0ba039147dc8348fdf',\n",
       " '0xf986b59831c95f2e84f6d014ede938669f61b082',\n",
       " '0xd7bc1fb5343d8529e32031f2ef6f225023fe4c1c',\n",
       " '0xb5020c38ea64933fc761f40745acbde1c4fadf31',\n",
       " '0x9378ebf77e8fc336dd2a3f375b5ab0d334fe796e',\n",
       " '0x55e7b32e87b02a22e0fb5dd1ef43d1990132ede9',\n",
       " '0x030fe4038e7cc60572ce450080d20ac708c3c007',\n",
       " '0xf1fee38e82d24ab9fcd74af01ce6ec2b3e1e05c6',\n",
       " '0x8dc7de1764d6eb854302cc4f01b1a24b02187b21',\n",
       " '0x1bc352f80f1acbaaae06839099a9b03b581ff7ab',\n",
       " '0x722272a4cec26030ba0a7ba615dd1f8ac22724a7',\n",
       " '0xb51297a841238d6b314db48b4eec3394281eff8a',\n",
       " '0x67d43ad8c967ecdb3acf17a7b6a67493f09dbf43',\n",
       " '0x194378d9dde27f6fac80bb8b955579c264ab471e',\n",
       " '0x274f603e11fc02989dfcaeb0f181f96b2c0f09b4',\n",
       " '0x867470dce32bea4b8eb136d7dbe3b0ac698b5c0c',\n",
       " '0x75452331dc706417d91beae94bf86c06901c520f',\n",
       " '0xd616d40f7e62e0daf5dfbc572163ad1ca5a88592',\n",
       " '0x6e318acfcf5eea40235d7c561737892bed4417c9',\n",
       " '0xe9e68138c87543c44c232e6072bdf58730fb2275',\n",
       " '0x07fa805b89be5cbea99bcf4d28953749a0824223',\n",
       " '0x3ab15ffed1163e21164440228b167ded2ee32ee0',\n",
       " '0x1806e75d16afbda219ecafff7ad8e1fef1944d60',\n",
       " '0x1873604078d6e678ac54d40d6a052f45429ff25b',\n",
       " '0x76a081648231e836e97b50ccd753d1d68ea8ab87',\n",
       " '0x16e2e4a7f3bddf04442eaf55e0129862830959bd',\n",
       " '0xa79a2fa26ecd72b2245b64834741815bcfae2019',\n",
       " '0x3446c5fd6c71e02d61bc24622946a1cb220b5a0d',\n",
       " '0xcf125b2ebf96d6c123f76b8b9cccd6259319978e',\n",
       " '0x679d4e7d4c0ec1189fc0497177b509da918bfa34',\n",
       " '0xf7bed58cea8dc1352bc740fa9f2a9cc957ef0cba',\n",
       " '0xa6e2528d5fb9958a65fb84e0e624dc3528f8eed0',\n",
       " '0x49628ec7f860209cd7673eec5ad865dff07e81d9',\n",
       " '0xddc8bdbc2c7c791515b67358bbef9d0a9cca2a64',\n",
       " '0xadfa337c78ee8311542598a2f0f2e582d26aa97d',\n",
       " '0x21f0e532a29c6ef9151edaea4f6c9f9811dc8a5a',\n",
       " '0xcb831329f5d2ce41b5656eea970c82ae80b9d82e',\n",
       " '0x888b6cc74ab6a8b0e61a31ef0bae8dbe6299b0cd',\n",
       " '0xcf761c0eb6051dbdbe16ae02cd2aa43e12980ba9',\n",
       " '0x983275e1c68b55ecfe40d4160f5e9668f3fd69dc',\n",
       " '0x545eed50e6ab61d99498be9e66bf765256a89a80',\n",
       " '0xeb8667038540e0e843864f9d59b042ea50a8ebc9',\n",
       " '0x063c8de13369f73ab85c631d361b0dc8abe670ee',\n",
       " '0x996402c311b4ef0c8b7024bf7c7715a117d66902',\n",
       " '0x509c200c9d78323f1743c0e4f8e5a6c758801229',\n",
       " '0x029b778f53b818f4dedb42e7afdc93d72619fbc9',\n",
       " '0xcded7303f5f24e7810ca3bdd6f5ba1a9a4457585',\n",
       " '0x4c83b0691f9ada049883102b7232df511a358541',\n",
       " '0xcee43d2f86c4e09ef2e1ab244e8dcd2220ce928a',\n",
       " '0x52a2d934a4efaf0779047c816f8c7a4c02aed016',\n",
       " '0x5320f7b7045ec51bddc6eb92a0dfcc5f019a92e2',\n",
       " '0xae79f3a0391d2f41c61cd45d1d2b930aaf8a5137',\n",
       " '0xc7701a1a24f93525b9f4200a183ef04c7bca59a0',\n",
       " '0xea6794310e44d238ea8181bb7f763b104716c11a',\n",
       " '0x1bd638202f4eeae7035a8a39737d573fce7f6da5',\n",
       " '0xbcf1cfa2858793f7d8eaf2cf4d0afca29b1eb686',\n",
       " '0x8e55c9518416d12db2763ee17a2d60f2d6244d93',\n",
       " '0xbfdc041b2025f28d03718416bab65bea5df7baf0',\n",
       " '0xb02cc55eb86e5cc83c7281cf0f05003c07adb9a8',\n",
       " '0x8f77f5f15b4a94fde0d98c0f7de4ff7e2cdf779c',\n",
       " '0x768d0aec2013a4435cca828b87af5870b195bcb8',\n",
       " '0x3741050518fefc0774fe0fabae88f4df20354e0e',\n",
       " '0x8fb026d6344f1800f3ad6ce39e420ff5af14547c',\n",
       " '0x9313f95152768d27e591fa7fd4fc40cf373dde01',\n",
       " '0xf87438b97f0e5935b8979c69ded20843e81ba264',\n",
       " '0x622547d8b4d0476432d2d2970adfc96ee021cf23',\n",
       " '0x4923d07c09ea2c4a048818803ae21dbf14b78b91',\n",
       " '0xe0364c05267575e1154daf61adc391482825eef2',\n",
       " '0x811880548c96a96982d012838af49ad37b9a6234',\n",
       " '0xf4574908e4a16af72a4ea2f9a24e7affe058ec07',\n",
       " '0x90293e0a754c0ac2d8d2615e9bf6e4994efdb35a',\n",
       " '0x684bbcd2d3347392b0df7cfb3b7f26e3e4493e2d',\n",
       " '0x94c7860178d1638aecdd5a598d3b4c4840400b73',\n",
       " '0x229b22010b8d737eaec913ba4d8cb35ed2bca47e',\n",
       " '0x20c6082fcdfc4304fd203d0bf240abc3e439f885',\n",
       " '0x8b55b401eb3842cbd6ededc0b088d94c797012c9',\n",
       " '0x8cf116877688daa95e2916044a1c7fd0b1789819',\n",
       " '0xae6e2a2f5d79fe81490c95e1d6fddcb92607c29a',\n",
       " '0x88a85c14d732cccc6b66ac99e279f36e99eada3d',\n",
       " '0x06132a433bd2dbb4f0db3fd55bc8e6220d4eab79',\n",
       " '0x7ce80be3d018729cdca0e27678f3adede65a22d9',\n",
       " '0x62968ae9eeadc400ba0081f89214571b73d0d16d',\n",
       " '0x6aa52136fed803c86523666012f9b0c4e709ce87',\n",
       " '0x699d1e20ec9d03fd541c8f5fe3c7b6c5841685bf',\n",
       " '0x2d095589ce339f8819b9bd96a52afe235bcd8388',\n",
       " '0xa39cfe77ea164d7f39a65d289e343701157c3d71',\n",
       " '0x24786274fa63c573a54ba567e7ec51858cca8d7f',\n",
       " '0xf5da742bb390bb9190ccfd890e902b6ac6ce91cb',\n",
       " '0x32490f6f1fd13c9aab82fd8a54a42e53d38ae826',\n",
       " '0x33bb7a097247409c6c374b53bcb7e48a254cb867',\n",
       " '0x2c6ee8cf913af1b6de2e9c77834ebe7b2f9bc411',\n",
       " '0x87b83a5f0d0db2b5696f50fcac96c0fe0286ea85',\n",
       " '0xd9f3ab15b376ad9ebb4f84cdf00ac3e0df1f09e0',\n",
       " '0x1e0d42206c7ee6e68898ef1cd003b239c4ba6d89',\n",
       " '0x458da769aafdb0e394cb7a1876ee54ee6599c723',\n",
       " '0x9b807603693c9e81cfc626d754a84b1cd9d6a500',\n",
       " '0x31ec1071ee1464eb464cf2c6b166066fe4fae862',\n",
       " '0xb1ed0d87f45d3467eda76c78bc79ee5d0ef6dc89',\n",
       " '0xf2a8e6147a63e477d22c568bf8406f8c3b115839',\n",
       " '0x7bc3a5659dd092f3a62b50bf67346d4dd53bff43',\n",
       " '0x07ac5dfb1f764f408293a2077ad9ae3f0b16254c',\n",
       " '0x1b0c80e83df1f553a660b11c40c20ba115715daa',\n",
       " '0xb656231491631d290796b5ed5960aa086b003954',\n",
       " '0xe261585f2a6a49075ca6563106a6993f93ccdc28',\n",
       " '0x54ce8613b19f4f900d56fb8d85c07e2624918bef',\n",
       " '0xe2adad9b123e3cff00c78b9861a41d160c9d1362',\n",
       " '0xa3b4c5e004a1807882c3c2b1b326376e402fd4e7',\n",
       " '0x72dc7ea80e14455950a8cac435838eeacd7675f8',\n",
       " '0xc505a5cf7230c6af117c6ffcf19c6cf4f584a598',\n",
       " '0x747b5a350beaa6ea972ff273c8b576140b7c8a59',\n",
       " '0x052f585fa599bfb4bed290ff30c057627ccd8059',\n",
       " '0xa7834c97e09082f1b26d1af4e3b72d9226b2e3ed',\n",
       " '0xab6a54ce286e3793b845a8b12b86463958aab000',\n",
       " '0x767338dcf6c72436ca22aedab83abab95e94ab6f',\n",
       " '0x6e58eac15030001b7d8c65f1e37a1893d26c931f',\n",
       " '0xccc593589589e9bd276253d62e98e512b05552ae',\n",
       " '0x5353b698da978a3f4325f4246ce89c6d733a9655',\n",
       " '0xe34849074d8eb4dd2f2649163051bda8e763c305',\n",
       " '0xfc9edbccdad1a6ea54514a514ed94fa5037f9cf5',\n",
       " '0x4a2519fa903291a52ea60d6b93a2769943edbd4e',\n",
       " '0xacbe983547e8440599019dac88b80811ea348677',\n",
       " '0xb2ba6d4a0db8435272040396040a871f724eb892',\n",
       " '0x821d869bd58b62a4b7e692995d05d670505fb27c',\n",
       " '0x60ab301e61f34ae151d849467731ceca2f8f275e',\n",
       " '0x323da81addea6ad3d6c57c76a7a78670c0c374cd',\n",
       " '0xc09ae9e6ae9feb053a0e8e24bfecab2f5e65760e',\n",
       " '0x95ff179f0061da8bc6caa275ffaf9bae8a31cefa',\n",
       " '0x79b626907a0cd8f3901bc1ec55f101f65e685ca3',\n",
       " '0xa9248d0396f5e2ee5b16b5be13149186b77c2aba',\n",
       " '0x789660ce2550f0f599016f6367cd07e524accb1b',\n",
       " '0xf7ea2b28e98e16c445465b7e5f765723035b77a0',\n",
       " '0xda1ba85b320da0f6d422a5225f75c0ee42524f01',\n",
       " '0xa3130a27756e536e4e9407f438d27378815cdf2a',\n",
       " '0x0f4c2d4993dea39935ba00685406c10d62bc7b37',\n",
       " '0xd02ff2ac253f96784783e7fbbf6c1dfe9f87bd45',\n",
       " '0x9bedc75452e2ec69204038fce02b0b5723273c90',\n",
       " '0x7e374c5cd99fa455e59c96281187c4f09f9a1412',\n",
       " '0xb4b00a76d1d7304e42d9aa1d779203a07e67dc82',\n",
       " '0xf53e879628ce5a438051a805d9b223013fa1b333',\n",
       " '0xe27a8f05f578830993264c26fad36e872b54e560',\n",
       " '0xf21dd868b1a7ce01bacf787dc07e2ebc21b706b1',\n",
       " '0x937078477ba5a6ba28b6f625dac3103661461d3d',\n",
       " '0x7366934face0341d6267b65510319cb69b38f4b0',\n",
       " '0xd7a0a83a4bd172224733c74e3451eca0e7470fde',\n",
       " '0xdb932eb3c03bc877d4953d93c7036f7b6916e8a6',\n",
       " '0x9388e1e408821b7e6f73fa01286bc371e022639b',\n",
       " '0x7736a297515953407260e2aebca83df77c07da05',\n",
       " '0xeb7fd3b0f0247aa7054d68afbc38536e516af163',\n",
       " '0xfae402a989153fa3f69a2818fa2c20f483dc686e',\n",
       " '0x1542cf0cfd516332f6372cc38e8a59b58cc7a0eb',\n",
       " '0xe6b1b3fd91776c9a6693ae9bbbb4dccf08936ce7',\n",
       " '0x28ec69f7ee7675c40dfd2c42d58772d3f3f67f9b',\n",
       " '0x8509189b819fe93b75e541adcbb031de41ca95aa',\n",
       " '0x76ade84093b5e25fc28e5134af9caf25c3a6e942',\n",
       " '0x38302a2e851035663edfefb41a167b6ed4b3d1fc',\n",
       " '0xc53a24495e39503b843966745d5b3932d6384bc3',\n",
       " '0x0d32c495c8ee6fd7b1272eef390ee161f4a9a26d',\n",
       " '0xfff1d3b3bd2080cf996ced3983847f0981f2dbca',\n",
       " '0xb1ecd28b2baa99c4fbd62064e978e041bb700b5c',\n",
       " '0xc796443fd2232dd204e256e6a816691bef03c1d3',\n",
       " '0xa8af95fe2f1c549c38c66a3ac006bf59d034aa7f',\n",
       " '0x54d95bc644863ce115a7575337b23127dc8d0071',\n",
       " '0xcb3c0a3d1525ae6f6c51def2bc8baf28d40d913a',\n",
       " '0xe6b7ca4dd1db58dec23e1351d1561dacd9b72232',\n",
       " '0x4cbb9f15d4e03234020dc0ecb08b069315d58fc6',\n",
       " '0x07b8dddca5b0a7f917732028bdd46d411ecfb87f',\n",
       " '0x10226a1a474f8567c492d15647479b8eaef6a535',\n",
       " '0xdf11e922f43a89c2f2d79ebeda189221389e8cb0',\n",
       " '0x35dee047e734588970991572d35d0012c7d34fa6',\n",
       " '0x8c236971fd338dcf8a3913d2aaf3d9d73c5ce560',\n",
       " '0x5dbd15a46504ca9f8dbc54f00fdd60987e370943',\n",
       " '0x9ae48d9deeb90f06a2f80f63f659f5f87fbef202',\n",
       " '0x7c1e20dc4a9a424a3fd1b006903b151d3d70b1c5',\n",
       " '0x5df90564e15ef93a9416538cddcf121f7913f62e',\n",
       " '0x18f6cef5f70df4b5f96fa53e4690440f7fe7b773',\n",
       " '0xbb2c9576716e731f89a5fe2f2df9f4136a5cd3a6',\n",
       " '0x0ef36cd91dc38d41b4e81525b815113a0fcda134',\n",
       " '0xec7ba886e33e8f65252b7c4d4e425c77ad40ead3',\n",
       " '0x38c808a1c83fa31e024da9c15306c14aa5fb8459',\n",
       " '0x51210ad91b16ecd9c477aa65d7e78e16794e6c05',\n",
       " '0xf390190f4c23947c4bbeb0ed2c0af2cbeac38bb3',\n",
       " '0x317833a73b5a743e3c32ffa60963e6e49560cac7',\n",
       " '0x112c76145c39155a69db23bdc9b9510f2831a80e',\n",
       " '0xf31113a1ec9d7f56b3e7f8400a8d28c0df02963a',\n",
       " '0xd0f2d7b019776d67fec3547837583b947a24ebfa',\n",
       " '0x9f56d69199b8543765657cec840150988fbf06c9',\n",
       " '0xd7819ef4cb3c8c4bd1facfcfbe6345e532831056',\n",
       " '0x9ad650be5d6252b417ceabffb2e69a8001b5e9a4',\n",
       " '0x13290fe070e79f44990354d601ececbec274c364',\n",
       " '0xae85d5bf16562d2e91fa86d08d1ca4b8c466e051',\n",
       " '0x8b068b5a714485f78f4bcdcb318d36418ca69c4b',\n",
       " '0x4e4bd69a1962fcf6a0a4b18f35a995264ecfb41e',\n",
       " '0xdcff7954c345acc64827654f36f20b1fc3ab675c',\n",
       " '0x485641a98aa2da7ae563b79895729af28a4c73df',\n",
       " '0x0e6a3aae95e519f6c523eb613287d2dca13e2360',\n",
       " '0xc54660cd8e774eb52a8dbe2b64053c1a05fef00c',\n",
       " '0x67470f73cee6c448d5e9d23e013aae68839f0d3f',\n",
       " '0x45fed4c22dbdb755636be5bb0eb9a8df1aea6d2d',\n",
       " '0x1ff4c5235cf4a97d96d95a794cd88d0c71649725',\n",
       " '0xf6de78ea2a3439e508a9cfc362eb6d78533f36ee',\n",
       " '0xb9ce9f8e30481f23a3aebfea5f66dd188652d61b',\n",
       " '0xcda6bcb26e7fe2b934a87c9f3bf82c7a57947c2e',\n",
       " '0xb6b0ad69ff7246fd6746c2b81ca5c2d78280b975',\n",
       " '0x2f852ead34015583c1ac6b7b6d46a03c999dd311',\n",
       " '0x57331e82ae3f4046561ae16dded2ccf9bf437b2a',\n",
       " '0x71b8dbc7d46eb133443e918bd7fb1d1aa55c9e4a',\n",
       " '0x4a90a9d63f894f18630a7ce562eb9d1d6dd8623c',\n",
       " '0xd7e410a9c4bbd5e1d2da8475474681153c4ee04a',\n",
       " '0x5c5ef27d425a942fa3d4d1af39d50bc8b60e7a95',\n",
       " '0xeeedbe42a4ea34334e3893a0eb76e7379086cb39',\n",
       " '0x3fd1581c93e1ef974f5eff54358cf7beb7b1bd1f',\n",
       " '0xbf22627400c5e674f067a629d007a0bce725a1a0',\n",
       " '0xfad9b4ae85fb3d2e10f2bb88dbad91e81fcf77a3',\n",
       " '0x692e35989c22507e5e9a604dbd1a296fa7e7d3c6',\n",
       " '0x0a15b40ba51a025dc8a963f17e8567db144490a1',\n",
       " '0xd72877a1581570d10b85559d48cd848054f465b0',\n",
       " '0x2e63c88f48f32f3d7715de31645967ead0804798',\n",
       " '0x6c4dd08a79407da32cf56c09ae991b286a35c2c2',\n",
       " '0xf6fd2ba78b6070c0441822b8ffdbb572f68223d4',\n",
       " '0xe7c2b7960307fcc1aee9f275133136a5b0603fc7',\n",
       " '0x12bbb3991dc61104341292bcd1a3549f24a14b41',\n",
       " '0xe04666a6fac3316bcecd3b7af137a2b24c570abc',\n",
       " '0x471ee94d7ace4b7e76d6d60b2b5f1a28b607509b',\n",
       " '0xa62a1411b633d61dcb4183c3009f9153a44f80bf',\n",
       " '0x76023ab4c0800605de90358e06553bd87cc512fb',\n",
       " '0x357dd89225ff3077271b88f6bb3082e84992413f',\n",
       " ...]"
      ]
     },
     "execution_count": 18,
     "metadata": {},
     "output_type": "execute_result"
    }
   ],
   "execution_count": 18
  },
  {
   "metadata": {
    "ExecuteTime": {
     "end_time": "2024-07-25T06:13:26.124490Z",
     "start_time": "2024-07-25T06:13:26.109467Z"
    }
   },
   "cell_type": "code",
   "source": [
    "def euclidean_dist(a, b):\n",
    "    return np.sqrt(np.sum(np.square(a-b)))"
   ],
   "id": "7977c64ce8040011",
   "outputs": [],
   "execution_count": 19
  },
  {
   "metadata": {
    "ExecuteTime": {
     "end_time": "2024-07-25T06:13:26.281115Z",
     "start_time": "2024-07-25T06:13:26.126491Z"
    }
   },
   "cell_type": "code",
   "source": [
    "# map address to int\n",
    "cnt = 0\n",
    "address_to_idx = {}\n",
    "idx_to_address = {}\n",
    "for address in address_list:\n",
    "    address_to_idx[address] = cnt\n",
    "    idx_to_address[cnt] = address\n",
    "    cnt += 1\n",
    "\n",
    "idx_pairs = []\n",
    "failed_address = []\n",
    "for pair in address_pairs:\n",
    "    try:\n",
    "        idx_pairs.append([address_to_idx[pair[0]], address_to_idx[pair[1]]])\n",
    "    except:\n",
    "        failed_address.append(pair[0])\n",
    "        failed_address.append(pair[1])\n",
    "        continue\n",
    "\n",
    "# calculate Euclidean distance for ground-truth pairs\n",
    "ground_truth_euclidean_distance = []\n",
    "for pair in idx_pairs:\n",
    "    src_id = pair[0]\n",
    "    dst_id = pair[1]\n",
    "    src_embedding = X[src_id]\n",
    "    dst_embedding = X[dst_id]\n",
    "\n",
    "    ground_truth_euclidean_distance.append(euclidean_dist(src_embedding, dst_embedding))"
   ],
   "id": "6bba78eacc44ad12",
   "outputs": [],
   "execution_count": 20
  },
  {
   "metadata": {
    "ExecuteTime": {
     "end_time": "2024-07-25T06:13:26.296649Z",
     "start_time": "2024-07-25T06:13:26.281623Z"
    }
   },
   "cell_type": "code",
   "source": [
    "def cosine_dist_multi(a, b):\n",
    "    num = dot(a, b.T)\n",
    "    denom = norm(a) * norm(b, axis=1)\n",
    "    res = num/denom\n",
    "    return -1 * res\n",
    "\n",
    "def euclidean_dist_multi(a, b):\n",
    "    return np.sqrt(np.sum(np.square(b-a), axis=1))"
   ],
   "id": "c91080f522823a7c",
   "outputs": [],
   "execution_count": 21
  },
  {
   "metadata": {
    "ExecuteTime": {
     "end_time": "2024-07-25T06:13:26.312669Z",
     "start_time": "2024-07-25T06:13:26.297650Z"
    }
   },
   "cell_type": "code",
   "source": [
    "def get_neighbors(X, idx, metric=\"cosine\" ,include_idx_mask=[]):\n",
    "    a = X[idx, :]\n",
    "    indices = list(range(X.shape[0]))\n",
    "    if metric == \"cosine\":\n",
    "        # dist = np.array([cosine_dist(a, X[i, :]) for i in indices])\n",
    "        dist = cosine_dist_multi(a, X)\n",
    "    elif metric == \"euclidean\":\n",
    "        dist = euclidean_dist_multi(a, X)\n",
    "    else:\n",
    "        raise ValueError(\"Distance Metric Error\")\n",
    "    sorted_df = pd.DataFrame(list(zip(indices, dist)), columns=[\"idx\", \"dist\"]).sort_values(\"dist\")\n",
    "    sorted_df = sorted_df.drop(index=idx) # exclude self distance\n",
    "    indices = list(sorted_df[\"idx\"])\n",
    "    distances = list(sorted_df[\"dist\"])\n",
    "\n",
    "    if len(include_idx_mask) > 0:\n",
    "        # filter indices\n",
    "        indices_tmp = []\n",
    "        distances_tmp = []\n",
    "        for i, res_idx in enumerate(indices):\n",
    "            if res_idx in include_idx_mask:\n",
    "                indices_tmp.append(res_idx)\n",
    "                distances_tmp.append(distances[i])\n",
    "        indices = indices_tmp\n",
    "        distances = distances_tmp\n",
    "    return indices, distances"
   ],
   "id": "10531f4b2ca1b956",
   "outputs": [],
   "execution_count": 22
  },
  {
   "metadata": {
    "ExecuteTime": {
     "end_time": "2024-07-25T06:13:26.328180Z",
     "start_time": "2024-07-25T06:13:26.313669Z"
    }
   },
   "cell_type": "code",
   "source": [
    "def get_rank(X, query_idx, target_idx, metric, include_idx_mask=[]):\n",
    "    indices, distances = get_neighbors(X, query_idx, metric, include_idx_mask)\n",
    "    if len(indices) > 0 and target_idx in indices:\n",
    "        trg_idx = indices.index(target_idx)\n",
    "        return trg_idx+1, distances[trg_idx], len(indices)\n",
    "    else:\n",
    "        return None, None, len(indices)"
   ],
   "id": "2aaa5582eed69c5f",
   "outputs": [],
   "execution_count": 23
  },
  {
   "metadata": {
    "ExecuteTime": {
     "end_time": "2024-07-25T06:15:10.354816Z",
     "start_time": "2024-07-25T06:13:26.329181Z"
    }
   },
   "cell_type": "code",
   "source": [
    "print(\"pause\")\n",
    "\n",
    "pbar = tqdm(total=len(idx_pairs))\n",
    "records = []\n",
    "for pair in idx_pairs:\n",
    "    rank, dist, num_set = get_rank(X, pair[1], pair[0], \"euclidean\")\n",
    "    records.append((pair[1], pair[0], rank, dist, num_set, \"none\"))\n",
    "    print(rank)\n",
    "    pbar.update(1)"
   ],
   "id": "247e465df265c469",
   "outputs": [
    {
     "name": "stdout",
     "output_type": "stream",
     "text": [
      "pause\n"
     ]
    },
    {
     "name": "stderr",
     "output_type": "stream",
     "text": [
      "\n",
      "  0%|          | 0/284 [00:18<?, ?it/s]\u001B[A\n",
      "\n",
      "  0%|          | 1/284 [00:00<01:55,  2.44it/s]\u001B[A"
     ]
    },
    {
     "name": "stdout",
     "output_type": "stream",
     "text": [
      "1321\n"
     ]
    },
    {
     "name": "stderr",
     "output_type": "stream",
     "text": [
      "\n",
      "  1%|          | 2/284 [00:00<01:49,  2.59it/s]\u001B[A"
     ]
    },
    {
     "name": "stdout",
     "output_type": "stream",
     "text": [
      "2187\n"
     ]
    },
    {
     "name": "stderr",
     "output_type": "stream",
     "text": [
      "\n",
      "  1%|          | 3/284 [00:01<01:47,  2.63it/s]\u001B[A"
     ]
    },
    {
     "name": "stdout",
     "output_type": "stream",
     "text": [
      "153\n"
     ]
    },
    {
     "name": "stderr",
     "output_type": "stream",
     "text": [
      "\n",
      "  1%|▏         | 4/284 [00:01<01:45,  2.64it/s]\u001B[A"
     ]
    },
    {
     "name": "stdout",
     "output_type": "stream",
     "text": [
      "30\n"
     ]
    },
    {
     "name": "stderr",
     "output_type": "stream",
     "text": [
      "\n",
      "  2%|▏         | 5/284 [00:01<01:45,  2.65it/s]\u001B[A"
     ]
    },
    {
     "name": "stdout",
     "output_type": "stream",
     "text": [
      "3722\n"
     ]
    },
    {
     "name": "stderr",
     "output_type": "stream",
     "text": [
      "\n",
      "  2%|▏         | 6/284 [00:02<01:44,  2.67it/s]\u001B[A"
     ]
    },
    {
     "name": "stdout",
     "output_type": "stream",
     "text": [
      "9868\n"
     ]
    },
    {
     "name": "stderr",
     "output_type": "stream",
     "text": [
      "\n",
      "  2%|▏         | 7/284 [00:02<01:44,  2.66it/s]\u001B[A"
     ]
    },
    {
     "name": "stdout",
     "output_type": "stream",
     "text": [
      "95646\n"
     ]
    },
    {
     "name": "stderr",
     "output_type": "stream",
     "text": [
      "\n",
      "  3%|▎         | 8/284 [00:03<01:43,  2.67it/s]\u001B[A"
     ]
    },
    {
     "name": "stdout",
     "output_type": "stream",
     "text": [
      "17620\n"
     ]
    },
    {
     "name": "stderr",
     "output_type": "stream",
     "text": [
      "\n",
      "  3%|▎         | 9/284 [00:03<01:42,  2.68it/s]\u001B[A"
     ]
    },
    {
     "name": "stdout",
     "output_type": "stream",
     "text": [
      "214\n"
     ]
    },
    {
     "name": "stderr",
     "output_type": "stream",
     "text": [
      "\n",
      "  4%|▎         | 10/284 [00:03<01:42,  2.66it/s]\u001B[A"
     ]
    },
    {
     "name": "stdout",
     "output_type": "stream",
     "text": [
      "74\n"
     ]
    },
    {
     "name": "stderr",
     "output_type": "stream",
     "text": [
      "\n",
      "  4%|▍         | 11/284 [00:04<01:43,  2.65it/s]\u001B[A"
     ]
    },
    {
     "name": "stdout",
     "output_type": "stream",
     "text": [
      "639\n"
     ]
    },
    {
     "name": "stderr",
     "output_type": "stream",
     "text": [
      "\n",
      "  4%|▍         | 12/284 [00:04<01:42,  2.66it/s]\u001B[A"
     ]
    },
    {
     "name": "stdout",
     "output_type": "stream",
     "text": [
      "812\n"
     ]
    },
    {
     "name": "stderr",
     "output_type": "stream",
     "text": [
      "\n",
      "  5%|▍         | 13/284 [00:04<01:42,  2.65it/s]\u001B[A"
     ]
    },
    {
     "name": "stdout",
     "output_type": "stream",
     "text": [
      "203041\n"
     ]
    },
    {
     "name": "stderr",
     "output_type": "stream",
     "text": [
      "\n",
      "  5%|▍         | 14/284 [00:05<01:42,  2.63it/s]\u001B[A"
     ]
    },
    {
     "name": "stdout",
     "output_type": "stream",
     "text": [
      "13332\n"
     ]
    },
    {
     "name": "stderr",
     "output_type": "stream",
     "text": [
      "\n",
      "  5%|▌         | 15/284 [00:05<01:42,  2.62it/s]\u001B[A"
     ]
    },
    {
     "name": "stdout",
     "output_type": "stream",
     "text": [
      "878\n"
     ]
    },
    {
     "name": "stderr",
     "output_type": "stream",
     "text": [
      "\n",
      "  6%|▌         | 16/284 [00:06<01:42,  2.62it/s]\u001B[A"
     ]
    },
    {
     "name": "stdout",
     "output_type": "stream",
     "text": [
      "48584\n"
     ]
    },
    {
     "name": "stderr",
     "output_type": "stream",
     "text": [
      "\n",
      "  6%|▌         | 17/284 [00:06<01:40,  2.65it/s]\u001B[A"
     ]
    },
    {
     "name": "stdout",
     "output_type": "stream",
     "text": [
      "1179\n"
     ]
    },
    {
     "name": "stderr",
     "output_type": "stream",
     "text": [
      "\n",
      "  6%|▋         | 18/284 [00:06<01:39,  2.66it/s]\u001B[A"
     ]
    },
    {
     "name": "stdout",
     "output_type": "stream",
     "text": [
      "3257\n"
     ]
    },
    {
     "name": "stderr",
     "output_type": "stream",
     "text": [
      "\n",
      "  7%|▋         | 19/284 [00:07<01:39,  2.66it/s]\u001B[A"
     ]
    },
    {
     "name": "stdout",
     "output_type": "stream",
     "text": [
      "73956\n"
     ]
    },
    {
     "name": "stderr",
     "output_type": "stream",
     "text": [
      "\n",
      "  7%|▋         | 20/284 [00:07<01:39,  2.66it/s]\u001B[A"
     ]
    },
    {
     "name": "stdout",
     "output_type": "stream",
     "text": [
      "321499\n"
     ]
    },
    {
     "name": "stderr",
     "output_type": "stream",
     "text": [
      "\n",
      "  7%|▋         | 21/284 [00:07<01:38,  2.66it/s]\u001B[A"
     ]
    },
    {
     "name": "stdout",
     "output_type": "stream",
     "text": [
      "38679\n"
     ]
    },
    {
     "name": "stderr",
     "output_type": "stream",
     "text": [
      "\n",
      "  8%|▊         | 22/284 [00:08<01:38,  2.67it/s]\u001B[A"
     ]
    },
    {
     "name": "stdout",
     "output_type": "stream",
     "text": [
      "4975\n"
     ]
    },
    {
     "name": "stderr",
     "output_type": "stream",
     "text": [
      "\n",
      "  8%|▊         | 23/284 [00:08<01:36,  2.71it/s]\u001B[A"
     ]
    },
    {
     "name": "stdout",
     "output_type": "stream",
     "text": [
      "480\n"
     ]
    },
    {
     "name": "stderr",
     "output_type": "stream",
     "text": [
      "\n",
      "  8%|▊         | 24/284 [00:09<01:35,  2.71it/s]\u001B[A"
     ]
    },
    {
     "name": "stdout",
     "output_type": "stream",
     "text": [
      "1604\n"
     ]
    },
    {
     "name": "stderr",
     "output_type": "stream",
     "text": [
      "\n",
      "  9%|▉         | 25/284 [00:09<01:35,  2.71it/s]\u001B[A"
     ]
    },
    {
     "name": "stdout",
     "output_type": "stream",
     "text": [
      "16268\n"
     ]
    },
    {
     "name": "stderr",
     "output_type": "stream",
     "text": [
      "\n",
      "  9%|▉         | 26/284 [00:09<01:35,  2.71it/s]\u001B[A"
     ]
    },
    {
     "name": "stdout",
     "output_type": "stream",
     "text": [
      "34317\n"
     ]
    },
    {
     "name": "stderr",
     "output_type": "stream",
     "text": [
      "\n",
      " 10%|▉         | 27/284 [00:10<01:34,  2.72it/s]\u001B[A"
     ]
    },
    {
     "name": "stdout",
     "output_type": "stream",
     "text": [
      "7337\n"
     ]
    },
    {
     "name": "stderr",
     "output_type": "stream",
     "text": [
      "\n",
      " 10%|▉         | 28/284 [00:10<01:34,  2.71it/s]\u001B[A"
     ]
    },
    {
     "name": "stdout",
     "output_type": "stream",
     "text": [
      "115744\n"
     ]
    },
    {
     "name": "stderr",
     "output_type": "stream",
     "text": [
      "\n",
      " 10%|█         | 29/284 [00:10<01:36,  2.64it/s]\u001B[A"
     ]
    },
    {
     "name": "stdout",
     "output_type": "stream",
     "text": [
      "344\n"
     ]
    },
    {
     "name": "stderr",
     "output_type": "stream",
     "text": [
      "\n",
      " 11%|█         | 30/284 [00:11<01:35,  2.66it/s]\u001B[A"
     ]
    },
    {
     "name": "stdout",
     "output_type": "stream",
     "text": [
      "330\n"
     ]
    },
    {
     "name": "stderr",
     "output_type": "stream",
     "text": [
      "\n",
      " 11%|█         | 31/284 [00:11<01:34,  2.68it/s]\u001B[A"
     ]
    },
    {
     "name": "stdout",
     "output_type": "stream",
     "text": [
      "2\n"
     ]
    },
    {
     "name": "stderr",
     "output_type": "stream",
     "text": [
      "\n",
      " 11%|█▏        | 32/284 [00:12<01:34,  2.68it/s]\u001B[A"
     ]
    },
    {
     "name": "stdout",
     "output_type": "stream",
     "text": [
      "2\n"
     ]
    },
    {
     "name": "stderr",
     "output_type": "stream",
     "text": [
      "\n",
      " 12%|█▏        | 33/284 [00:12<01:33,  2.70it/s]\u001B[A"
     ]
    },
    {
     "name": "stdout",
     "output_type": "stream",
     "text": [
      "1027\n"
     ]
    },
    {
     "name": "stderr",
     "output_type": "stream",
     "text": [
      "\n",
      " 12%|█▏        | 34/284 [00:12<01:31,  2.73it/s]\u001B[A"
     ]
    },
    {
     "name": "stdout",
     "output_type": "stream",
     "text": [
      "846\n"
     ]
    },
    {
     "name": "stderr",
     "output_type": "stream",
     "text": [
      "\n",
      " 12%|█▏        | 35/284 [00:13<01:30,  2.75it/s]\u001B[A"
     ]
    },
    {
     "name": "stdout",
     "output_type": "stream",
     "text": [
      "11066\n"
     ]
    },
    {
     "name": "stderr",
     "output_type": "stream",
     "text": [
      "\n",
      " 13%|█▎        | 36/284 [00:13<01:30,  2.75it/s]\u001B[A"
     ]
    },
    {
     "name": "stdout",
     "output_type": "stream",
     "text": [
      "244112\n"
     ]
    },
    {
     "name": "stderr",
     "output_type": "stream",
     "text": [
      "\n",
      " 13%|█▎        | 37/284 [00:13<01:29,  2.76it/s]\u001B[A"
     ]
    },
    {
     "name": "stdout",
     "output_type": "stream",
     "text": [
      "270\n"
     ]
    },
    {
     "name": "stderr",
     "output_type": "stream",
     "text": [
      "\n",
      " 13%|█▎        | 38/284 [00:14<01:28,  2.77it/s]\u001B[A"
     ]
    },
    {
     "name": "stdout",
     "output_type": "stream",
     "text": [
      "279\n"
     ]
    },
    {
     "name": "stderr",
     "output_type": "stream",
     "text": [
      "\n",
      " 14%|█▎        | 39/284 [00:14<01:28,  2.77it/s]\u001B[A"
     ]
    },
    {
     "name": "stdout",
     "output_type": "stream",
     "text": [
      "368\n"
     ]
    },
    {
     "name": "stderr",
     "output_type": "stream",
     "text": [
      "\n",
      " 14%|█▍        | 40/284 [00:14<01:28,  2.77it/s]\u001B[A"
     ]
    },
    {
     "name": "stdout",
     "output_type": "stream",
     "text": [
      "202\n"
     ]
    },
    {
     "name": "stderr",
     "output_type": "stream",
     "text": [
      "\n",
      " 14%|█▍        | 41/284 [00:15<01:28,  2.76it/s]\u001B[A"
     ]
    },
    {
     "name": "stdout",
     "output_type": "stream",
     "text": [
      "349\n"
     ]
    },
    {
     "name": "stderr",
     "output_type": "stream",
     "text": [
      "\n",
      " 15%|█▍        | 42/284 [00:15<01:27,  2.76it/s]\u001B[A"
     ]
    },
    {
     "name": "stdout",
     "output_type": "stream",
     "text": [
      "455\n"
     ]
    },
    {
     "name": "stderr",
     "output_type": "stream",
     "text": [
      "\n",
      " 15%|█▌        | 43/284 [00:15<01:28,  2.73it/s]\u001B[A"
     ]
    },
    {
     "name": "stdout",
     "output_type": "stream",
     "text": [
      "134325\n"
     ]
    },
    {
     "name": "stderr",
     "output_type": "stream",
     "text": [
      "\n",
      " 15%|█▌        | 44/284 [00:16<01:27,  2.73it/s]\u001B[A"
     ]
    },
    {
     "name": "stdout",
     "output_type": "stream",
     "text": [
      "1593\n"
     ]
    },
    {
     "name": "stderr",
     "output_type": "stream",
     "text": [
      "\n",
      " 16%|█▌        | 45/284 [00:16<01:27,  2.74it/s]\u001B[A"
     ]
    },
    {
     "name": "stdout",
     "output_type": "stream",
     "text": [
      "216\n"
     ]
    },
    {
     "name": "stderr",
     "output_type": "stream",
     "text": [
      "\n",
      " 16%|█▌        | 46/284 [00:17<01:26,  2.74it/s]\u001B[A"
     ]
    },
    {
     "name": "stdout",
     "output_type": "stream",
     "text": [
      "294\n"
     ]
    },
    {
     "name": "stderr",
     "output_type": "stream",
     "text": [
      "\n",
      " 17%|█▋        | 47/284 [00:17<01:27,  2.72it/s]\u001B[A"
     ]
    },
    {
     "name": "stdout",
     "output_type": "stream",
     "text": [
      "81\n"
     ]
    },
    {
     "name": "stderr",
     "output_type": "stream",
     "text": [
      "\n",
      " 17%|█▋        | 48/284 [00:17<01:26,  2.72it/s]\u001B[A"
     ]
    },
    {
     "name": "stdout",
     "output_type": "stream",
     "text": [
      "1074\n"
     ]
    },
    {
     "name": "stderr",
     "output_type": "stream",
     "text": [
      "\n",
      " 17%|█▋        | 49/284 [00:18<01:26,  2.72it/s]\u001B[A"
     ]
    },
    {
     "name": "stdout",
     "output_type": "stream",
     "text": [
      "97090\n"
     ]
    },
    {
     "name": "stderr",
     "output_type": "stream",
     "text": [
      "\n",
      " 18%|█▊        | 50/284 [00:18<01:25,  2.73it/s]\u001B[A"
     ]
    },
    {
     "name": "stdout",
     "output_type": "stream",
     "text": [
      "5513\n"
     ]
    },
    {
     "name": "stderr",
     "output_type": "stream",
     "text": [
      "\n",
      " 18%|█▊        | 51/284 [00:18<01:26,  2.70it/s]\u001B[A"
     ]
    },
    {
     "name": "stdout",
     "output_type": "stream",
     "text": [
      "1482\n"
     ]
    },
    {
     "name": "stderr",
     "output_type": "stream",
     "text": [
      "\n",
      " 18%|█▊        | 52/284 [00:19<01:26,  2.68it/s]\u001B[A"
     ]
    },
    {
     "name": "stdout",
     "output_type": "stream",
     "text": [
      "1312\n"
     ]
    },
    {
     "name": "stderr",
     "output_type": "stream",
     "text": [
      "\n",
      " 19%|█▊        | 53/284 [00:19<01:26,  2.66it/s]\u001B[A"
     ]
    },
    {
     "name": "stdout",
     "output_type": "stream",
     "text": [
      "85\n"
     ]
    },
    {
     "name": "stderr",
     "output_type": "stream",
     "text": [
      "\n",
      " 19%|█▉        | 54/284 [00:20<01:26,  2.65it/s]\u001B[A"
     ]
    },
    {
     "name": "stdout",
     "output_type": "stream",
     "text": [
      "1512\n"
     ]
    },
    {
     "name": "stderr",
     "output_type": "stream",
     "text": [
      "\n",
      " 19%|█▉        | 55/284 [00:20<01:26,  2.64it/s]\u001B[A"
     ]
    },
    {
     "name": "stdout",
     "output_type": "stream",
     "text": [
      "13587\n"
     ]
    },
    {
     "name": "stderr",
     "output_type": "stream",
     "text": [
      "\n",
      " 20%|█▉        | 56/284 [00:20<01:26,  2.65it/s]\u001B[A"
     ]
    },
    {
     "name": "stdout",
     "output_type": "stream",
     "text": [
      "196108\n"
     ]
    },
    {
     "name": "stderr",
     "output_type": "stream",
     "text": [
      "\n",
      " 20%|██        | 57/284 [00:21<01:25,  2.67it/s]\u001B[A"
     ]
    },
    {
     "name": "stdout",
     "output_type": "stream",
     "text": [
      "12387\n"
     ]
    },
    {
     "name": "stderr",
     "output_type": "stream",
     "text": [
      "\n",
      " 20%|██        | 58/284 [00:21<01:23,  2.70it/s]\u001B[A"
     ]
    },
    {
     "name": "stdout",
     "output_type": "stream",
     "text": [
      "2332\n"
     ]
    },
    {
     "name": "stderr",
     "output_type": "stream",
     "text": [
      "\n",
      " 21%|██        | 59/284 [00:21<01:22,  2.72it/s]\u001B[A"
     ]
    },
    {
     "name": "stdout",
     "output_type": "stream",
     "text": [
      "4411\n"
     ]
    },
    {
     "name": "stderr",
     "output_type": "stream",
     "text": [
      "\n",
      " 21%|██        | 60/284 [00:22<01:22,  2.72it/s]\u001B[A"
     ]
    },
    {
     "name": "stdout",
     "output_type": "stream",
     "text": [
      "150603\n"
     ]
    },
    {
     "name": "stderr",
     "output_type": "stream",
     "text": [
      "\n",
      " 21%|██▏       | 61/284 [00:22<01:21,  2.75it/s]\u001B[A"
     ]
    },
    {
     "name": "stdout",
     "output_type": "stream",
     "text": [
      "164\n"
     ]
    },
    {
     "name": "stderr",
     "output_type": "stream",
     "text": [
      "\n",
      " 22%|██▏       | 62/284 [00:23<01:20,  2.76it/s]\u001B[A"
     ]
    },
    {
     "name": "stdout",
     "output_type": "stream",
     "text": [
      "262\n"
     ]
    },
    {
     "name": "stderr",
     "output_type": "stream",
     "text": [
      "\n",
      " 22%|██▏       | 63/284 [00:23<01:20,  2.76it/s]\u001B[A"
     ]
    },
    {
     "name": "stdout",
     "output_type": "stream",
     "text": [
      "14257\n"
     ]
    },
    {
     "name": "stderr",
     "output_type": "stream",
     "text": [
      "\n",
      " 23%|██▎       | 64/284 [00:23<01:19,  2.76it/s]\u001B[A"
     ]
    },
    {
     "name": "stdout",
     "output_type": "stream",
     "text": [
      "2625\n"
     ]
    },
    {
     "name": "stderr",
     "output_type": "stream",
     "text": [
      "\n",
      " 23%|██▎       | 65/284 [00:24<01:19,  2.77it/s]\u001B[A"
     ]
    },
    {
     "name": "stdout",
     "output_type": "stream",
     "text": [
      "121\n"
     ]
    },
    {
     "name": "stderr",
     "output_type": "stream",
     "text": [
      "\n",
      " 23%|██▎       | 66/284 [00:24<01:18,  2.77it/s]\u001B[A"
     ]
    },
    {
     "name": "stdout",
     "output_type": "stream",
     "text": [
      "149\n"
     ]
    },
    {
     "name": "stderr",
     "output_type": "stream",
     "text": [
      "\n",
      " 24%|██▎       | 67/284 [00:24<01:18,  2.76it/s]\u001B[A"
     ]
    },
    {
     "name": "stdout",
     "output_type": "stream",
     "text": [
      "148882\n"
     ]
    },
    {
     "name": "stderr",
     "output_type": "stream",
     "text": [
      "\n",
      " 24%|██▍       | 68/284 [00:25<01:17,  2.77it/s]\u001B[A"
     ]
    },
    {
     "name": "stdout",
     "output_type": "stream",
     "text": [
      "46940\n"
     ]
    },
    {
     "name": "stderr",
     "output_type": "stream",
     "text": [
      "\n",
      " 24%|██▍       | 69/284 [00:25<01:17,  2.78it/s]\u001B[A"
     ]
    },
    {
     "name": "stdout",
     "output_type": "stream",
     "text": [
      "937\n"
     ]
    },
    {
     "name": "stderr",
     "output_type": "stream",
     "text": [
      "\n",
      " 25%|██▍       | 70/284 [00:25<01:17,  2.78it/s]\u001B[A"
     ]
    },
    {
     "name": "stdout",
     "output_type": "stream",
     "text": [
      "1303\n"
     ]
    },
    {
     "name": "stderr",
     "output_type": "stream",
     "text": [
      "\n",
      " 25%|██▌       | 71/284 [00:26<01:16,  2.78it/s]\u001B[A"
     ]
    },
    {
     "name": "stdout",
     "output_type": "stream",
     "text": [
      "7775\n"
     ]
    },
    {
     "name": "stderr",
     "output_type": "stream",
     "text": [
      "\n",
      " 25%|██▌       | 72/284 [00:26<01:15,  2.79it/s]\u001B[A"
     ]
    },
    {
     "name": "stdout",
     "output_type": "stream",
     "text": [
      "5128\n"
     ]
    },
    {
     "name": "stderr",
     "output_type": "stream",
     "text": [
      "\n",
      " 26%|██▌       | 73/284 [00:26<01:16,  2.77it/s]\u001B[A"
     ]
    },
    {
     "name": "stdout",
     "output_type": "stream",
     "text": [
      "17144\n"
     ]
    },
    {
     "name": "stderr",
     "output_type": "stream",
     "text": [
      "\n",
      " 26%|██▌       | 74/284 [00:27<01:15,  2.78it/s]\u001B[A"
     ]
    },
    {
     "name": "stdout",
     "output_type": "stream",
     "text": [
      "74899\n"
     ]
    },
    {
     "name": "stderr",
     "output_type": "stream",
     "text": [
      "\n",
      " 26%|██▋       | 75/284 [00:27<01:15,  2.78it/s]\u001B[A"
     ]
    },
    {
     "name": "stdout",
     "output_type": "stream",
     "text": [
      "12779\n"
     ]
    },
    {
     "name": "stderr",
     "output_type": "stream",
     "text": [
      "\n",
      " 27%|██▋       | 76/284 [00:28<01:15,  2.76it/s]\u001B[A"
     ]
    },
    {
     "name": "stdout",
     "output_type": "stream",
     "text": [
      "1158\n"
     ]
    },
    {
     "name": "stderr",
     "output_type": "stream",
     "text": [
      "\n",
      " 27%|██▋       | 77/284 [00:28<01:15,  2.74it/s]\u001B[A"
     ]
    },
    {
     "name": "stdout",
     "output_type": "stream",
     "text": [
      "34867\n"
     ]
    },
    {
     "name": "stderr",
     "output_type": "stream",
     "text": [
      "\n",
      " 27%|██▋       | 78/284 [00:28<01:15,  2.72it/s]\u001B[A"
     ]
    },
    {
     "name": "stdout",
     "output_type": "stream",
     "text": [
      "52870\n"
     ]
    },
    {
     "name": "stderr",
     "output_type": "stream",
     "text": [
      "\n",
      " 28%|██▊       | 79/284 [00:29<01:15,  2.70it/s]\u001B[A"
     ]
    },
    {
     "name": "stdout",
     "output_type": "stream",
     "text": [
      "3782\n"
     ]
    },
    {
     "name": "stderr",
     "output_type": "stream",
     "text": [
      "\n",
      " 28%|██▊       | 80/284 [00:29<01:14,  2.73it/s]\u001B[A"
     ]
    },
    {
     "name": "stdout",
     "output_type": "stream",
     "text": [
      "5669\n"
     ]
    },
    {
     "name": "stderr",
     "output_type": "stream",
     "text": [
      "\n",
      " 29%|██▊       | 81/284 [00:29<01:14,  2.73it/s]\u001B[A"
     ]
    },
    {
     "name": "stdout",
     "output_type": "stream",
     "text": [
      "349704\n"
     ]
    },
    {
     "name": "stderr",
     "output_type": "stream",
     "text": [
      "\n",
      " 29%|██▉       | 82/284 [00:30<01:13,  2.74it/s]\u001B[A"
     ]
    },
    {
     "name": "stdout",
     "output_type": "stream",
     "text": [
      "356169\n"
     ]
    },
    {
     "name": "stderr",
     "output_type": "stream",
     "text": [
      "\n",
      " 29%|██▉       | 83/284 [00:30<01:13,  2.75it/s]\u001B[A"
     ]
    },
    {
     "name": "stdout",
     "output_type": "stream",
     "text": [
      "2302\n"
     ]
    },
    {
     "name": "stderr",
     "output_type": "stream",
     "text": [
      "\n",
      " 30%|██▉       | 84/284 [00:30<01:12,  2.75it/s]\u001B[A"
     ]
    },
    {
     "name": "stdout",
     "output_type": "stream",
     "text": [
      "5970\n"
     ]
    },
    {
     "name": "stderr",
     "output_type": "stream",
     "text": [
      "\n",
      " 30%|██▉       | 85/284 [00:31<01:12,  2.76it/s]\u001B[A"
     ]
    },
    {
     "name": "stdout",
     "output_type": "stream",
     "text": [
      "9229\n"
     ]
    },
    {
     "name": "stderr",
     "output_type": "stream",
     "text": [
      "\n",
      " 30%|███       | 86/284 [00:31<01:12,  2.75it/s]\u001B[A"
     ]
    },
    {
     "name": "stdout",
     "output_type": "stream",
     "text": [
      "5070\n"
     ]
    },
    {
     "name": "stderr",
     "output_type": "stream",
     "text": [
      "\n",
      " 31%|███       | 87/284 [00:32<01:11,  2.75it/s]\u001B[A"
     ]
    },
    {
     "name": "stdout",
     "output_type": "stream",
     "text": [
      "301803\n"
     ]
    },
    {
     "name": "stderr",
     "output_type": "stream",
     "text": [
      "\n",
      " 31%|███       | 88/284 [00:32<01:11,  2.75it/s]\u001B[A"
     ]
    },
    {
     "name": "stdout",
     "output_type": "stream",
     "text": [
      "142935\n"
     ]
    },
    {
     "name": "stderr",
     "output_type": "stream",
     "text": [
      "\n",
      " 31%|███▏      | 89/284 [00:32<01:10,  2.75it/s]\u001B[A"
     ]
    },
    {
     "name": "stdout",
     "output_type": "stream",
     "text": [
      "122\n"
     ]
    },
    {
     "name": "stderr",
     "output_type": "stream",
     "text": [
      "\n",
      " 32%|███▏      | 90/284 [00:33<01:10,  2.75it/s]\u001B[A"
     ]
    },
    {
     "name": "stdout",
     "output_type": "stream",
     "text": [
      "88\n"
     ]
    },
    {
     "name": "stderr",
     "output_type": "stream",
     "text": [
      "\n",
      " 32%|███▏      | 91/284 [00:33<01:09,  2.76it/s]\u001B[A"
     ]
    },
    {
     "name": "stdout",
     "output_type": "stream",
     "text": [
      "159\n"
     ]
    },
    {
     "name": "stderr",
     "output_type": "stream",
     "text": [
      "\n",
      " 32%|███▏      | 92/284 [00:33<01:09,  2.78it/s]\u001B[A"
     ]
    },
    {
     "name": "stdout",
     "output_type": "stream",
     "text": [
      "200\n"
     ]
    },
    {
     "name": "stderr",
     "output_type": "stream",
     "text": [
      "\n",
      " 33%|███▎      | 93/284 [00:34<01:08,  2.78it/s]\u001B[A"
     ]
    },
    {
     "name": "stdout",
     "output_type": "stream",
     "text": [
      "227\n"
     ]
    },
    {
     "name": "stderr",
     "output_type": "stream",
     "text": [
      "\n",
      " 33%|███▎      | 94/284 [00:34<01:08,  2.77it/s]\u001B[A"
     ]
    },
    {
     "name": "stdout",
     "output_type": "stream",
     "text": [
      "5958\n"
     ]
    },
    {
     "name": "stderr",
     "output_type": "stream",
     "text": [
      "\n",
      " 33%|███▎      | 95/284 [00:34<01:08,  2.77it/s]\u001B[A"
     ]
    },
    {
     "name": "stdout",
     "output_type": "stream",
     "text": [
      "11503\n"
     ]
    },
    {
     "name": "stderr",
     "output_type": "stream",
     "text": [
      "\n",
      " 34%|███▍      | 96/284 [00:35<01:08,  2.75it/s]\u001B[A"
     ]
    },
    {
     "name": "stdout",
     "output_type": "stream",
     "text": [
      "3682\n"
     ]
    },
    {
     "name": "stderr",
     "output_type": "stream",
     "text": [
      "\n",
      " 34%|███▍      | 97/284 [00:35<01:07,  2.75it/s]\u001B[A"
     ]
    },
    {
     "name": "stdout",
     "output_type": "stream",
     "text": [
      "39429\n"
     ]
    },
    {
     "name": "stderr",
     "output_type": "stream",
     "text": [
      "\n",
      " 35%|███▍      | 98/284 [00:36<01:07,  2.76it/s]\u001B[A"
     ]
    },
    {
     "name": "stdout",
     "output_type": "stream",
     "text": [
      "4858\n"
     ]
    },
    {
     "name": "stderr",
     "output_type": "stream",
     "text": [
      "\n",
      " 35%|███▍      | 99/284 [00:36<01:07,  2.75it/s]\u001B[A"
     ]
    },
    {
     "name": "stdout",
     "output_type": "stream",
     "text": [
      "3878\n"
     ]
    },
    {
     "name": "stderr",
     "output_type": "stream",
     "text": [
      "\n",
      " 35%|███▌      | 100/284 [00:36<01:06,  2.76it/s]\u001B[A"
     ]
    },
    {
     "name": "stdout",
     "output_type": "stream",
     "text": [
      "17512\n"
     ]
    },
    {
     "name": "stderr",
     "output_type": "stream",
     "text": [
      "\n",
      " 36%|███▌      | 101/284 [00:37<01:06,  2.75it/s]\u001B[A"
     ]
    },
    {
     "name": "stdout",
     "output_type": "stream",
     "text": [
      "10872\n"
     ]
    },
    {
     "name": "stderr",
     "output_type": "stream",
     "text": [
      "\n",
      " 36%|███▌      | 102/284 [00:37<01:06,  2.75it/s]\u001B[A"
     ]
    },
    {
     "name": "stdout",
     "output_type": "stream",
     "text": [
      "25103\n"
     ]
    },
    {
     "name": "stderr",
     "output_type": "stream",
     "text": [
      "\n",
      " 36%|███▋      | 103/284 [00:37<01:05,  2.76it/s]\u001B[A"
     ]
    },
    {
     "name": "stdout",
     "output_type": "stream",
     "text": [
      "52769\n"
     ]
    },
    {
     "name": "stderr",
     "output_type": "stream",
     "text": [
      "\n",
      " 37%|███▋      | 104/284 [00:38<01:05,  2.76it/s]\u001B[A"
     ]
    },
    {
     "name": "stdout",
     "output_type": "stream",
     "text": [
      "2758\n"
     ]
    },
    {
     "name": "stderr",
     "output_type": "stream",
     "text": [
      "\n",
      " 37%|███▋      | 105/284 [00:38<01:04,  2.76it/s]\u001B[A"
     ]
    },
    {
     "name": "stdout",
     "output_type": "stream",
     "text": [
      "10643\n"
     ]
    },
    {
     "name": "stderr",
     "output_type": "stream",
     "text": [
      "\n",
      " 37%|███▋      | 106/284 [00:38<01:04,  2.75it/s]\u001B[A"
     ]
    },
    {
     "name": "stdout",
     "output_type": "stream",
     "text": [
      "12361\n"
     ]
    },
    {
     "name": "stderr",
     "output_type": "stream",
     "text": [
      "\n",
      " 38%|███▊      | 107/284 [00:39<01:04,  2.74it/s]\u001B[A"
     ]
    },
    {
     "name": "stdout",
     "output_type": "stream",
     "text": [
      "1681\n"
     ]
    },
    {
     "name": "stderr",
     "output_type": "stream",
     "text": [
      "\n",
      " 38%|███▊      | 108/284 [00:39<01:04,  2.74it/s]\u001B[A"
     ]
    },
    {
     "name": "stdout",
     "output_type": "stream",
     "text": [
      "1580\n"
     ]
    },
    {
     "name": "stderr",
     "output_type": "stream",
     "text": [
      "\n",
      " 38%|███▊      | 109/284 [00:40<01:04,  2.73it/s]\u001B[A"
     ]
    },
    {
     "name": "stdout",
     "output_type": "stream",
     "text": [
      "1111\n"
     ]
    },
    {
     "name": "stderr",
     "output_type": "stream",
     "text": [
      "\n",
      " 39%|███▊      | 110/284 [00:40<01:03,  2.72it/s]\u001B[A"
     ]
    },
    {
     "name": "stdout",
     "output_type": "stream",
     "text": [
      "769\n"
     ]
    },
    {
     "name": "stderr",
     "output_type": "stream",
     "text": [
      "\n",
      " 39%|███▉      | 111/284 [00:40<01:04,  2.69it/s]\u001B[A"
     ]
    },
    {
     "name": "stdout",
     "output_type": "stream",
     "text": [
      "136027\n"
     ]
    },
    {
     "name": "stderr",
     "output_type": "stream",
     "text": [
      "\n",
      " 39%|███▉      | 112/284 [00:41<01:03,  2.69it/s]\u001B[A"
     ]
    },
    {
     "name": "stdout",
     "output_type": "stream",
     "text": [
      "2934\n"
     ]
    },
    {
     "name": "stderr",
     "output_type": "stream",
     "text": [
      "\n",
      " 40%|███▉      | 113/284 [00:41<01:03,  2.68it/s]\u001B[A"
     ]
    },
    {
     "name": "stdout",
     "output_type": "stream",
     "text": [
      "432\n"
     ]
    },
    {
     "name": "stderr",
     "output_type": "stream",
     "text": [
      "\n",
      " 40%|████      | 114/284 [00:41<01:04,  2.65it/s]\u001B[A"
     ]
    },
    {
     "name": "stdout",
     "output_type": "stream",
     "text": [
      "429\n"
     ]
    },
    {
     "name": "stderr",
     "output_type": "stream",
     "text": [
      "\n",
      " 40%|████      | 115/284 [00:42<01:03,  2.64it/s]\u001B[A"
     ]
    },
    {
     "name": "stdout",
     "output_type": "stream",
     "text": [
      "1975\n"
     ]
    },
    {
     "name": "stderr",
     "output_type": "stream",
     "text": [
      "\n",
      " 41%|████      | 116/284 [00:42<01:03,  2.64it/s]\u001B[A"
     ]
    },
    {
     "name": "stdout",
     "output_type": "stream",
     "text": [
      "1895\n"
     ]
    },
    {
     "name": "stderr",
     "output_type": "stream",
     "text": [
      "\n",
      " 41%|████      | 117/284 [00:43<01:02,  2.67it/s]\u001B[A"
     ]
    },
    {
     "name": "stdout",
     "output_type": "stream",
     "text": [
      "312\n"
     ]
    },
    {
     "name": "stderr",
     "output_type": "stream",
     "text": [
      "\n",
      " 42%|████▏     | 118/284 [00:43<01:01,  2.68it/s]\u001B[A"
     ]
    },
    {
     "name": "stdout",
     "output_type": "stream",
     "text": [
      "537\n"
     ]
    },
    {
     "name": "stderr",
     "output_type": "stream",
     "text": [
      "\n",
      " 42%|████▏     | 119/284 [00:43<01:01,  2.67it/s]\u001B[A"
     ]
    },
    {
     "name": "stdout",
     "output_type": "stream",
     "text": [
      "1278\n"
     ]
    },
    {
     "name": "stderr",
     "output_type": "stream",
     "text": [
      "\n",
      " 42%|████▏     | 120/284 [00:44<01:01,  2.67it/s]\u001B[A"
     ]
    },
    {
     "name": "stdout",
     "output_type": "stream",
     "text": [
      "607\n"
     ]
    },
    {
     "name": "stderr",
     "output_type": "stream",
     "text": [
      "\n",
      " 43%|████▎     | 121/284 [00:44<01:00,  2.69it/s]\u001B[A"
     ]
    },
    {
     "name": "stdout",
     "output_type": "stream",
     "text": [
      "5459\n"
     ]
    },
    {
     "name": "stderr",
     "output_type": "stream",
     "text": [
      "\n",
      " 43%|████▎     | 122/284 [00:44<00:59,  2.71it/s]\u001B[A"
     ]
    },
    {
     "name": "stdout",
     "output_type": "stream",
     "text": [
      "861\n"
     ]
    },
    {
     "name": "stderr",
     "output_type": "stream",
     "text": [
      "\n",
      " 43%|████▎     | 123/284 [00:45<00:59,  2.72it/s]\u001B[A"
     ]
    },
    {
     "name": "stdout",
     "output_type": "stream",
     "text": [
      "22602\n"
     ]
    },
    {
     "name": "stderr",
     "output_type": "stream",
     "text": [
      "\n",
      " 44%|████▎     | 124/284 [00:45<00:59,  2.71it/s]\u001B[A"
     ]
    },
    {
     "name": "stdout",
     "output_type": "stream",
     "text": [
      "4743\n"
     ]
    },
    {
     "name": "stderr",
     "output_type": "stream",
     "text": [
      "\n",
      " 44%|████▍     | 125/284 [00:46<00:58,  2.71it/s]\u001B[A"
     ]
    },
    {
     "name": "stdout",
     "output_type": "stream",
     "text": [
      "3534\n"
     ]
    },
    {
     "name": "stderr",
     "output_type": "stream",
     "text": [
      "\n",
      " 44%|████▍     | 126/284 [00:46<00:58,  2.70it/s]\u001B[A"
     ]
    },
    {
     "name": "stdout",
     "output_type": "stream",
     "text": [
      "1453\n"
     ]
    },
    {
     "name": "stderr",
     "output_type": "stream",
     "text": [
      "\n",
      " 45%|████▍     | 127/284 [00:46<00:58,  2.70it/s]\u001B[A"
     ]
    },
    {
     "name": "stdout",
     "output_type": "stream",
     "text": [
      "4\n"
     ]
    },
    {
     "name": "stderr",
     "output_type": "stream",
     "text": [
      "\n",
      " 45%|████▌     | 128/284 [00:47<00:58,  2.67it/s]\u001B[A"
     ]
    },
    {
     "name": "stdout",
     "output_type": "stream",
     "text": [
      "6\n"
     ]
    },
    {
     "name": "stderr",
     "output_type": "stream",
     "text": [
      "\n",
      " 45%|████▌     | 129/284 [00:47<00:57,  2.67it/s]\u001B[A"
     ]
    },
    {
     "name": "stdout",
     "output_type": "stream",
     "text": [
      "39378\n"
     ]
    },
    {
     "name": "stderr",
     "output_type": "stream",
     "text": [
      "\n",
      " 46%|████▌     | 130/284 [00:47<00:57,  2.70it/s]\u001B[A"
     ]
    },
    {
     "name": "stdout",
     "output_type": "stream",
     "text": [
      "3554\n"
     ]
    },
    {
     "name": "stderr",
     "output_type": "stream",
     "text": [
      "\n",
      " 46%|████▌     | 131/284 [00:48<00:57,  2.64it/s]\u001B[A"
     ]
    },
    {
     "name": "stdout",
     "output_type": "stream",
     "text": [
      "2255\n"
     ]
    },
    {
     "name": "stderr",
     "output_type": "stream",
     "text": [
      "\n",
      " 46%|████▋     | 132/284 [00:48<00:57,  2.65it/s]\u001B[A"
     ]
    },
    {
     "name": "stdout",
     "output_type": "stream",
     "text": [
      "4516\n"
     ]
    },
    {
     "name": "stderr",
     "output_type": "stream",
     "text": [
      "\n",
      " 47%|████▋     | 133/284 [00:49<00:57,  2.64it/s]\u001B[A"
     ]
    },
    {
     "name": "stdout",
     "output_type": "stream",
     "text": [
      "2655\n"
     ]
    },
    {
     "name": "stderr",
     "output_type": "stream",
     "text": [
      "\n",
      " 47%|████▋     | 134/284 [00:49<00:56,  2.65it/s]\u001B[A"
     ]
    },
    {
     "name": "stdout",
     "output_type": "stream",
     "text": [
      "9899\n"
     ]
    },
    {
     "name": "stderr",
     "output_type": "stream",
     "text": [
      "\n",
      " 48%|████▊     | 135/284 [00:49<00:55,  2.68it/s]\u001B[A"
     ]
    },
    {
     "name": "stdout",
     "output_type": "stream",
     "text": [
      "439\n"
     ]
    },
    {
     "name": "stderr",
     "output_type": "stream",
     "text": [
      "\n",
      " 48%|████▊     | 136/284 [00:50<00:54,  2.71it/s]\u001B[A"
     ]
    },
    {
     "name": "stdout",
     "output_type": "stream",
     "text": [
      "1439\n"
     ]
    },
    {
     "name": "stderr",
     "output_type": "stream",
     "text": [
      "\n",
      " 48%|████▊     | 137/284 [00:50<00:54,  2.71it/s]\u001B[A"
     ]
    },
    {
     "name": "stdout",
     "output_type": "stream",
     "text": [
      "148212\n"
     ]
    },
    {
     "name": "stderr",
     "output_type": "stream",
     "text": [
      "\n",
      " 49%|████▊     | 138/284 [00:50<00:53,  2.72it/s]\u001B[A"
     ]
    },
    {
     "name": "stdout",
     "output_type": "stream",
     "text": [
      "358513\n"
     ]
    },
    {
     "name": "stderr",
     "output_type": "stream",
     "text": [
      "\n",
      " 49%|████▉     | 139/284 [00:51<00:52,  2.74it/s]\u001B[A"
     ]
    },
    {
     "name": "stdout",
     "output_type": "stream",
     "text": [
      "43\n"
     ]
    },
    {
     "name": "stderr",
     "output_type": "stream",
     "text": [
      "\n",
      " 49%|████▉     | 140/284 [00:51<00:52,  2.74it/s]\u001B[A"
     ]
    },
    {
     "name": "stdout",
     "output_type": "stream",
     "text": [
      "28\n"
     ]
    },
    {
     "name": "stderr",
     "output_type": "stream",
     "text": [
      "\n",
      " 50%|████▉     | 141/284 [00:51<00:52,  2.74it/s]\u001B[A"
     ]
    },
    {
     "name": "stdout",
     "output_type": "stream",
     "text": [
      "14579\n"
     ]
    },
    {
     "name": "stderr",
     "output_type": "stream",
     "text": [
      "\n",
      " 50%|█████     | 142/284 [00:52<00:51,  2.73it/s]\u001B[A"
     ]
    },
    {
     "name": "stdout",
     "output_type": "stream",
     "text": [
      "23978\n"
     ]
    },
    {
     "name": "stderr",
     "output_type": "stream",
     "text": [
      "\n",
      " 50%|█████     | 143/284 [00:52<00:51,  2.73it/s]\u001B[A"
     ]
    },
    {
     "name": "stdout",
     "output_type": "stream",
     "text": [
      "2567\n"
     ]
    },
    {
     "name": "stderr",
     "output_type": "stream",
     "text": [
      "\n",
      " 51%|█████     | 144/284 [00:53<00:51,  2.74it/s]\u001B[A"
     ]
    },
    {
     "name": "stdout",
     "output_type": "stream",
     "text": [
      "3052\n"
     ]
    },
    {
     "name": "stderr",
     "output_type": "stream",
     "text": [
      "\n",
      " 51%|█████     | 145/284 [00:53<00:50,  2.74it/s]\u001B[A"
     ]
    },
    {
     "name": "stdout",
     "output_type": "stream",
     "text": [
      "2426\n"
     ]
    },
    {
     "name": "stderr",
     "output_type": "stream",
     "text": [
      "\n",
      " 51%|█████▏    | 146/284 [00:53<00:50,  2.76it/s]\u001B[A"
     ]
    },
    {
     "name": "stdout",
     "output_type": "stream",
     "text": [
      "188\n"
     ]
    },
    {
     "name": "stderr",
     "output_type": "stream",
     "text": [
      "\n",
      " 52%|█████▏    | 147/284 [00:54<00:49,  2.76it/s]\u001B[A"
     ]
    },
    {
     "name": "stdout",
     "output_type": "stream",
     "text": [
      "21803\n"
     ]
    },
    {
     "name": "stderr",
     "output_type": "stream",
     "text": [
      "\n",
      " 52%|█████▏    | 148/284 [00:54<00:49,  2.76it/s]\u001B[A"
     ]
    },
    {
     "name": "stdout",
     "output_type": "stream",
     "text": [
      "7965\n"
     ]
    },
    {
     "name": "stderr",
     "output_type": "stream",
     "text": [
      "\n",
      " 52%|█████▏    | 149/284 [00:54<00:49,  2.75it/s]\u001B[A"
     ]
    },
    {
     "name": "stdout",
     "output_type": "stream",
     "text": [
      "2627\n"
     ]
    },
    {
     "name": "stderr",
     "output_type": "stream",
     "text": [
      "\n",
      " 53%|█████▎    | 150/284 [00:55<00:48,  2.76it/s]\u001B[A"
     ]
    },
    {
     "name": "stdout",
     "output_type": "stream",
     "text": [
      "1236\n"
     ]
    },
    {
     "name": "stderr",
     "output_type": "stream",
     "text": [
      "\n",
      " 53%|█████▎    | 151/284 [00:55<00:48,  2.75it/s]\u001B[A"
     ]
    },
    {
     "name": "stdout",
     "output_type": "stream",
     "text": [
      "16104\n"
     ]
    },
    {
     "name": "stderr",
     "output_type": "stream",
     "text": [
      "\n",
      " 54%|█████▎    | 152/284 [00:55<00:47,  2.76it/s]\u001B[A"
     ]
    },
    {
     "name": "stdout",
     "output_type": "stream",
     "text": [
      "1694\n"
     ]
    },
    {
     "name": "stderr",
     "output_type": "stream",
     "text": [
      "\n",
      " 54%|█████▍    | 153/284 [00:56<00:47,  2.75it/s]\u001B[A"
     ]
    },
    {
     "name": "stdout",
     "output_type": "stream",
     "text": [
      "271762\n"
     ]
    },
    {
     "name": "stderr",
     "output_type": "stream",
     "text": [
      "\n",
      " 54%|█████▍    | 154/284 [00:56<00:47,  2.76it/s]\u001B[A"
     ]
    },
    {
     "name": "stdout",
     "output_type": "stream",
     "text": [
      "22285\n"
     ]
    },
    {
     "name": "stderr",
     "output_type": "stream",
     "text": [
      "\n",
      " 55%|█████▍    | 155/284 [00:57<00:46,  2.76it/s]\u001B[A"
     ]
    },
    {
     "name": "stdout",
     "output_type": "stream",
     "text": [
      "1830\n"
     ]
    },
    {
     "name": "stderr",
     "output_type": "stream",
     "text": [
      "\n",
      " 55%|█████▍    | 156/284 [00:57<00:46,  2.74it/s]\u001B[A"
     ]
    },
    {
     "name": "stdout",
     "output_type": "stream",
     "text": [
      "14470\n"
     ]
    },
    {
     "name": "stderr",
     "output_type": "stream",
     "text": [
      "\n",
      " 55%|█████▌    | 157/284 [00:57<00:46,  2.74it/s]\u001B[A"
     ]
    },
    {
     "name": "stdout",
     "output_type": "stream",
     "text": [
      "1989\n"
     ]
    },
    {
     "name": "stderr",
     "output_type": "stream",
     "text": [
      "\n",
      " 56%|█████▌    | 158/284 [00:58<00:46,  2.74it/s]\u001B[A"
     ]
    },
    {
     "name": "stdout",
     "output_type": "stream",
     "text": [
      "23020\n"
     ]
    },
    {
     "name": "stderr",
     "output_type": "stream",
     "text": [
      "\n",
      " 56%|█████▌    | 159/284 [00:58<00:45,  2.75it/s]\u001B[A"
     ]
    },
    {
     "name": "stdout",
     "output_type": "stream",
     "text": [
      "237\n"
     ]
    },
    {
     "name": "stderr",
     "output_type": "stream",
     "text": [
      "\n",
      " 56%|█████▋    | 160/284 [00:58<00:44,  2.76it/s]\u001B[A"
     ]
    },
    {
     "name": "stdout",
     "output_type": "stream",
     "text": [
      "99\n"
     ]
    },
    {
     "name": "stderr",
     "output_type": "stream",
     "text": [
      "\n",
      " 57%|█████▋    | 161/284 [00:59<00:44,  2.76it/s]\u001B[A"
     ]
    },
    {
     "name": "stdout",
     "output_type": "stream",
     "text": [
      "40\n"
     ]
    },
    {
     "name": "stderr",
     "output_type": "stream",
     "text": [
      "\n",
      " 57%|█████▋    | 162/284 [00:59<00:44,  2.76it/s]\u001B[A"
     ]
    },
    {
     "name": "stdout",
     "output_type": "stream",
     "text": [
      "22\n"
     ]
    },
    {
     "name": "stderr",
     "output_type": "stream",
     "text": [
      "\n",
      " 57%|█████▋    | 163/284 [00:59<00:44,  2.75it/s]\u001B[A"
     ]
    },
    {
     "name": "stdout",
     "output_type": "stream",
     "text": [
      "1230\n"
     ]
    },
    {
     "name": "stderr",
     "output_type": "stream",
     "text": [
      "\n",
      " 58%|█████▊    | 164/284 [01:00<00:43,  2.73it/s]\u001B[A"
     ]
    },
    {
     "name": "stdout",
     "output_type": "stream",
     "text": [
      "5077\n"
     ]
    },
    {
     "name": "stderr",
     "output_type": "stream",
     "text": [
      "\n",
      " 58%|█████▊    | 165/284 [01:00<00:43,  2.74it/s]\u001B[A"
     ]
    },
    {
     "name": "stdout",
     "output_type": "stream",
     "text": [
      "1\n"
     ]
    },
    {
     "name": "stderr",
     "output_type": "stream",
     "text": [
      "\n",
      " 58%|█████▊    | 166/284 [01:01<00:42,  2.75it/s]\u001B[A"
     ]
    },
    {
     "name": "stdout",
     "output_type": "stream",
     "text": [
      "1\n"
     ]
    },
    {
     "name": "stderr",
     "output_type": "stream",
     "text": [
      "\n",
      " 59%|█████▉    | 167/284 [01:01<00:42,  2.74it/s]\u001B[A"
     ]
    },
    {
     "name": "stdout",
     "output_type": "stream",
     "text": [
      "6321\n"
     ]
    },
    {
     "name": "stderr",
     "output_type": "stream",
     "text": [
      "\n",
      " 59%|█████▉    | 168/284 [01:01<00:42,  2.75it/s]\u001B[A"
     ]
    },
    {
     "name": "stdout",
     "output_type": "stream",
     "text": [
      "4652\n"
     ]
    },
    {
     "name": "stderr",
     "output_type": "stream",
     "text": [
      "\n",
      " 60%|█████▉    | 169/284 [01:02<00:41,  2.76it/s]\u001B[A"
     ]
    },
    {
     "name": "stdout",
     "output_type": "stream",
     "text": [
      "1067\n"
     ]
    },
    {
     "name": "stderr",
     "output_type": "stream",
     "text": [
      "\n",
      " 60%|█████▉    | 170/284 [01:02<00:41,  2.75it/s]\u001B[A"
     ]
    },
    {
     "name": "stdout",
     "output_type": "stream",
     "text": [
      "425\n"
     ]
    },
    {
     "name": "stderr",
     "output_type": "stream",
     "text": [
      "\n",
      " 60%|██████    | 171/284 [01:02<00:40,  2.76it/s]\u001B[A"
     ]
    },
    {
     "name": "stdout",
     "output_type": "stream",
     "text": [
      "6895\n"
     ]
    },
    {
     "name": "stderr",
     "output_type": "stream",
     "text": [
      "\n",
      " 61%|██████    | 172/284 [01:03<00:40,  2.75it/s]\u001B[A"
     ]
    },
    {
     "name": "stdout",
     "output_type": "stream",
     "text": [
      "112965\n"
     ]
    },
    {
     "name": "stderr",
     "output_type": "stream",
     "text": [
      "\n",
      " 61%|██████    | 173/284 [01:03<00:40,  2.76it/s]\u001B[A"
     ]
    },
    {
     "name": "stdout",
     "output_type": "stream",
     "text": [
      "1053\n"
     ]
    },
    {
     "name": "stderr",
     "output_type": "stream",
     "text": [
      "\n",
      " 61%|██████▏   | 174/284 [01:03<00:39,  2.76it/s]\u001B[A"
     ]
    },
    {
     "name": "stdout",
     "output_type": "stream",
     "text": [
      "1260\n"
     ]
    },
    {
     "name": "stderr",
     "output_type": "stream",
     "text": [
      "\n",
      " 62%|██████▏   | 175/284 [01:04<00:39,  2.76it/s]\u001B[A"
     ]
    },
    {
     "name": "stdout",
     "output_type": "stream",
     "text": [
      "19681\n"
     ]
    },
    {
     "name": "stderr",
     "output_type": "stream",
     "text": [
      "\n",
      " 62%|██████▏   | 176/284 [01:04<00:39,  2.77it/s]\u001B[A"
     ]
    },
    {
     "name": "stdout",
     "output_type": "stream",
     "text": [
      "42448\n"
     ]
    },
    {
     "name": "stderr",
     "output_type": "stream",
     "text": [
      "\n",
      " 62%|██████▏   | 177/284 [01:05<00:38,  2.76it/s]\u001B[A"
     ]
    },
    {
     "name": "stdout",
     "output_type": "stream",
     "text": [
      "159667\n"
     ]
    },
    {
     "name": "stderr",
     "output_type": "stream",
     "text": [
      "\n",
      " 63%|██████▎   | 178/284 [01:05<00:38,  2.77it/s]\u001B[A"
     ]
    },
    {
     "name": "stdout",
     "output_type": "stream",
     "text": [
      "61899\n"
     ]
    },
    {
     "name": "stderr",
     "output_type": "stream",
     "text": [
      "\n",
      " 63%|██████▎   | 179/284 [01:05<00:37,  2.77it/s]\u001B[A"
     ]
    },
    {
     "name": "stdout",
     "output_type": "stream",
     "text": [
      "107498\n"
     ]
    },
    {
     "name": "stderr",
     "output_type": "stream",
     "text": [
      "\n",
      " 63%|██████▎   | 180/284 [01:06<00:38,  2.73it/s]\u001B[A"
     ]
    },
    {
     "name": "stdout",
     "output_type": "stream",
     "text": [
      "96647\n"
     ]
    },
    {
     "name": "stderr",
     "output_type": "stream",
     "text": [
      "\n",
      " 64%|██████▎   | 181/284 [01:06<00:37,  2.74it/s]\u001B[A"
     ]
    },
    {
     "name": "stdout",
     "output_type": "stream",
     "text": [
      "15772\n"
     ]
    },
    {
     "name": "stderr",
     "output_type": "stream",
     "text": [
      "\n",
      " 64%|██████▍   | 182/284 [01:06<00:37,  2.75it/s]\u001B[A"
     ]
    },
    {
     "name": "stdout",
     "output_type": "stream",
     "text": [
      "419144\n"
     ]
    },
    {
     "name": "stderr",
     "output_type": "stream",
     "text": [
      "\n",
      " 64%|██████▍   | 183/284 [01:07<00:36,  2.75it/s]\u001B[A"
     ]
    },
    {
     "name": "stdout",
     "output_type": "stream",
     "text": [
      "39002\n"
     ]
    },
    {
     "name": "stderr",
     "output_type": "stream",
     "text": [
      "\n",
      " 65%|██████▍   | 184/284 [01:07<00:36,  2.77it/s]\u001B[A"
     ]
    },
    {
     "name": "stdout",
     "output_type": "stream",
     "text": [
      "14936\n"
     ]
    },
    {
     "name": "stderr",
     "output_type": "stream",
     "text": [
      "\n",
      " 65%|██████▌   | 185/284 [01:07<00:35,  2.77it/s]\u001B[A"
     ]
    },
    {
     "name": "stdout",
     "output_type": "stream",
     "text": [
      "32378\n"
     ]
    },
    {
     "name": "stderr",
     "output_type": "stream",
     "text": [
      "\n",
      " 65%|██████▌   | 186/284 [01:08<00:35,  2.78it/s]\u001B[A"
     ]
    },
    {
     "name": "stdout",
     "output_type": "stream",
     "text": [
      "2008\n"
     ]
    },
    {
     "name": "stderr",
     "output_type": "stream",
     "text": [
      "\n",
      " 66%|██████▌   | 187/284 [01:08<00:34,  2.77it/s]\u001B[A"
     ]
    },
    {
     "name": "stdout",
     "output_type": "stream",
     "text": [
      "4968\n"
     ]
    },
    {
     "name": "stderr",
     "output_type": "stream",
     "text": [
      "\n",
      " 66%|██████▌   | 188/284 [01:09<00:34,  2.77it/s]\u001B[A"
     ]
    },
    {
     "name": "stdout",
     "output_type": "stream",
     "text": [
      "6408\n"
     ]
    },
    {
     "name": "stderr",
     "output_type": "stream",
     "text": [
      "\n",
      " 67%|██████▋   | 189/284 [01:09<00:34,  2.77it/s]\u001B[A"
     ]
    },
    {
     "name": "stdout",
     "output_type": "stream",
     "text": [
      "22612\n"
     ]
    },
    {
     "name": "stderr",
     "output_type": "stream",
     "text": [
      "\n",
      " 67%|██████▋   | 190/284 [01:09<00:34,  2.76it/s]\u001B[A"
     ]
    },
    {
     "name": "stdout",
     "output_type": "stream",
     "text": [
      "4847\n"
     ]
    },
    {
     "name": "stderr",
     "output_type": "stream",
     "text": [
      "\n",
      " 67%|██████▋   | 191/284 [01:10<00:33,  2.76it/s]\u001B[A"
     ]
    },
    {
     "name": "stdout",
     "output_type": "stream",
     "text": [
      "11\n"
     ]
    },
    {
     "name": "stderr",
     "output_type": "stream",
     "text": [
      "\n",
      " 68%|██████▊   | 192/284 [01:10<00:33,  2.77it/s]\u001B[A"
     ]
    },
    {
     "name": "stdout",
     "output_type": "stream",
     "text": [
      "10\n"
     ]
    },
    {
     "name": "stderr",
     "output_type": "stream",
     "text": [
      "\n",
      " 68%|██████▊   | 193/284 [01:10<00:32,  2.76it/s]\u001B[A"
     ]
    },
    {
     "name": "stdout",
     "output_type": "stream",
     "text": [
      "470\n"
     ]
    },
    {
     "name": "stderr",
     "output_type": "stream",
     "text": [
      "\n",
      " 68%|██████▊   | 194/284 [01:11<00:32,  2.76it/s]\u001B[A"
     ]
    },
    {
     "name": "stdout",
     "output_type": "stream",
     "text": [
      "20\n"
     ]
    },
    {
     "name": "stderr",
     "output_type": "stream",
     "text": [
      "\n",
      " 69%|██████▊   | 195/284 [01:11<00:32,  2.76it/s]\u001B[A"
     ]
    },
    {
     "name": "stdout",
     "output_type": "stream",
     "text": [
      "2280\n"
     ]
    },
    {
     "name": "stderr",
     "output_type": "stream",
     "text": [
      "\n",
      " 69%|██████▉   | 196/284 [01:11<00:31,  2.77it/s]\u001B[A"
     ]
    },
    {
     "name": "stdout",
     "output_type": "stream",
     "text": [
      "2342\n"
     ]
    },
    {
     "name": "stderr",
     "output_type": "stream",
     "text": [
      "\n",
      " 69%|██████▉   | 197/284 [01:12<00:31,  2.77it/s]\u001B[A"
     ]
    },
    {
     "name": "stdout",
     "output_type": "stream",
     "text": [
      "482\n"
     ]
    },
    {
     "name": "stderr",
     "output_type": "stream",
     "text": [
      "\n",
      " 70%|██████▉   | 198/284 [01:12<00:31,  2.77it/s]\u001B[A"
     ]
    },
    {
     "name": "stdout",
     "output_type": "stream",
     "text": [
      "592\n"
     ]
    },
    {
     "name": "stderr",
     "output_type": "stream",
     "text": [
      "\n",
      " 70%|███████   | 199/284 [01:13<00:30,  2.75it/s]\u001B[A"
     ]
    },
    {
     "name": "stdout",
     "output_type": "stream",
     "text": [
      "213\n"
     ]
    },
    {
     "name": "stderr",
     "output_type": "stream",
     "text": [
      "\n",
      " 70%|███████   | 200/284 [01:13<00:30,  2.75it/s]\u001B[A"
     ]
    },
    {
     "name": "stdout",
     "output_type": "stream",
     "text": [
      "2324\n"
     ]
    },
    {
     "name": "stderr",
     "output_type": "stream",
     "text": [
      "\n",
      " 71%|███████   | 201/284 [01:13<00:30,  2.76it/s]\u001B[A"
     ]
    },
    {
     "name": "stdout",
     "output_type": "stream",
     "text": [
      "8877\n"
     ]
    },
    {
     "name": "stderr",
     "output_type": "stream",
     "text": [
      "\n",
      " 71%|███████   | 202/284 [01:14<00:29,  2.76it/s]\u001B[A"
     ]
    },
    {
     "name": "stdout",
     "output_type": "stream",
     "text": [
      "9034\n"
     ]
    },
    {
     "name": "stderr",
     "output_type": "stream",
     "text": [
      "\n",
      " 71%|███████▏  | 203/284 [01:14<00:29,  2.78it/s]\u001B[A"
     ]
    },
    {
     "name": "stdout",
     "output_type": "stream",
     "text": [
      "308\n"
     ]
    },
    {
     "name": "stderr",
     "output_type": "stream",
     "text": [
      "\n",
      " 72%|███████▏  | 204/284 [01:14<00:28,  2.78it/s]\u001B[A"
     ]
    },
    {
     "name": "stdout",
     "output_type": "stream",
     "text": [
      "523\n"
     ]
    },
    {
     "name": "stderr",
     "output_type": "stream",
     "text": [
      "\n",
      " 72%|███████▏  | 205/284 [01:15<00:28,  2.77it/s]\u001B[A"
     ]
    },
    {
     "name": "stdout",
     "output_type": "stream",
     "text": [
      "21178\n"
     ]
    },
    {
     "name": "stderr",
     "output_type": "stream",
     "text": [
      "\n",
      " 73%|███████▎  | 206/284 [01:15<00:28,  2.77it/s]\u001B[A"
     ]
    },
    {
     "name": "stdout",
     "output_type": "stream",
     "text": [
      "20961\n"
     ]
    },
    {
     "name": "stderr",
     "output_type": "stream",
     "text": [
      "\n",
      " 73%|███████▎  | 207/284 [01:15<00:27,  2.77it/s]\u001B[A"
     ]
    },
    {
     "name": "stdout",
     "output_type": "stream",
     "text": [
      "17\n"
     ]
    },
    {
     "name": "stderr",
     "output_type": "stream",
     "text": [
      "\n",
      " 73%|███████▎  | 208/284 [01:16<00:27,  2.76it/s]\u001B[A"
     ]
    },
    {
     "name": "stdout",
     "output_type": "stream",
     "text": [
      "55\n"
     ]
    },
    {
     "name": "stderr",
     "output_type": "stream",
     "text": [
      "\n",
      " 74%|███████▎  | 209/284 [01:16<00:27,  2.76it/s]\u001B[A"
     ]
    },
    {
     "name": "stdout",
     "output_type": "stream",
     "text": [
      "14019\n"
     ]
    },
    {
     "name": "stderr",
     "output_type": "stream",
     "text": [
      "\n",
      " 74%|███████▍  | 210/284 [01:16<00:26,  2.76it/s]\u001B[A"
     ]
    },
    {
     "name": "stdout",
     "output_type": "stream",
     "text": [
      "163737\n"
     ]
    },
    {
     "name": "stderr",
     "output_type": "stream",
     "text": [
      "\n",
      " 74%|███████▍  | 211/284 [01:17<00:26,  2.77it/s]\u001B[A"
     ]
    },
    {
     "name": "stdout",
     "output_type": "stream",
     "text": [
      "93145\n"
     ]
    },
    {
     "name": "stderr",
     "output_type": "stream",
     "text": [
      "\n",
      " 75%|███████▍  | 212/284 [01:17<00:26,  2.77it/s]\u001B[A"
     ]
    },
    {
     "name": "stdout",
     "output_type": "stream",
     "text": [
      "102110\n"
     ]
    },
    {
     "name": "stderr",
     "output_type": "stream",
     "text": [
      "\n",
      " 75%|███████▌  | 213/284 [01:18<00:25,  2.77it/s]\u001B[A"
     ]
    },
    {
     "name": "stdout",
     "output_type": "stream",
     "text": [
      "17\n"
     ]
    },
    {
     "name": "stderr",
     "output_type": "stream",
     "text": [
      "\n",
      " 75%|███████▌  | 214/284 [01:18<00:25,  2.77it/s]\u001B[A"
     ]
    },
    {
     "name": "stdout",
     "output_type": "stream",
     "text": [
      "30\n"
     ]
    },
    {
     "name": "stderr",
     "output_type": "stream",
     "text": [
      "\n",
      " 76%|███████▌  | 215/284 [01:18<00:25,  2.75it/s]\u001B[A"
     ]
    },
    {
     "name": "stdout",
     "output_type": "stream",
     "text": [
      "195584\n"
     ]
    },
    {
     "name": "stderr",
     "output_type": "stream",
     "text": [
      "\n",
      " 76%|███████▌  | 216/284 [01:19<00:24,  2.77it/s]\u001B[A"
     ]
    },
    {
     "name": "stdout",
     "output_type": "stream",
     "text": [
      "34037\n"
     ]
    },
    {
     "name": "stderr",
     "output_type": "stream",
     "text": [
      "\n",
      " 76%|███████▋  | 217/284 [01:19<00:24,  2.70it/s]\u001B[A"
     ]
    },
    {
     "name": "stdout",
     "output_type": "stream",
     "text": [
      "3382\n"
     ]
    },
    {
     "name": "stderr",
     "output_type": "stream",
     "text": [
      "\n",
      " 77%|███████▋  | 218/284 [01:19<00:24,  2.70it/s]\u001B[A"
     ]
    },
    {
     "name": "stdout",
     "output_type": "stream",
     "text": [
      "5264\n"
     ]
    },
    {
     "name": "stderr",
     "output_type": "stream",
     "text": [
      "\n",
      " 77%|███████▋  | 219/284 [01:20<00:23,  2.71it/s]\u001B[A"
     ]
    },
    {
     "name": "stdout",
     "output_type": "stream",
     "text": [
      "13976\n"
     ]
    },
    {
     "name": "stderr",
     "output_type": "stream",
     "text": [
      "\n",
      " 77%|███████▋  | 220/284 [01:20<00:23,  2.72it/s]\u001B[A"
     ]
    },
    {
     "name": "stdout",
     "output_type": "stream",
     "text": [
      "8012\n"
     ]
    },
    {
     "name": "stderr",
     "output_type": "stream",
     "text": [
      "\n",
      " 78%|███████▊  | 221/284 [01:21<00:23,  2.71it/s]\u001B[A"
     ]
    },
    {
     "name": "stdout",
     "output_type": "stream",
     "text": [
      "8\n"
     ]
    },
    {
     "name": "stderr",
     "output_type": "stream",
     "text": [
      "\n",
      " 78%|███████▊  | 222/284 [01:21<00:22,  2.72it/s]\u001B[A"
     ]
    },
    {
     "name": "stdout",
     "output_type": "stream",
     "text": [
      "7\n"
     ]
    },
    {
     "name": "stderr",
     "output_type": "stream",
     "text": [
      "\n",
      " 79%|███████▊  | 223/284 [01:21<00:22,  2.73it/s]\u001B[A"
     ]
    },
    {
     "name": "stdout",
     "output_type": "stream",
     "text": [
      "154\n"
     ]
    },
    {
     "name": "stderr",
     "output_type": "stream",
     "text": [
      "\n",
      " 79%|███████▉  | 224/284 [01:22<00:21,  2.74it/s]\u001B[A"
     ]
    },
    {
     "name": "stdout",
     "output_type": "stream",
     "text": [
      "71\n"
     ]
    },
    {
     "name": "stderr",
     "output_type": "stream",
     "text": [
      "\n",
      " 79%|███████▉  | 225/284 [01:22<00:21,  2.74it/s]\u001B[A"
     ]
    },
    {
     "name": "stdout",
     "output_type": "stream",
     "text": [
      "2773\n"
     ]
    },
    {
     "name": "stderr",
     "output_type": "stream",
     "text": [
      "\n",
      " 80%|███████▉  | 226/284 [01:22<00:21,  2.74it/s]\u001B[A"
     ]
    },
    {
     "name": "stdout",
     "output_type": "stream",
     "text": [
      "1579\n"
     ]
    },
    {
     "name": "stderr",
     "output_type": "stream",
     "text": [
      "\n",
      " 80%|███████▉  | 227/284 [01:23<00:20,  2.74it/s]\u001B[A"
     ]
    },
    {
     "name": "stdout",
     "output_type": "stream",
     "text": [
      "187\n"
     ]
    },
    {
     "name": "stderr",
     "output_type": "stream",
     "text": [
      "\n",
      " 80%|████████  | 228/284 [01:23<00:20,  2.74it/s]\u001B[A"
     ]
    },
    {
     "name": "stdout",
     "output_type": "stream",
     "text": [
      "425\n"
     ]
    },
    {
     "name": "stderr",
     "output_type": "stream",
     "text": [
      "\n",
      " 81%|████████  | 229/284 [01:23<00:19,  2.76it/s]\u001B[A"
     ]
    },
    {
     "name": "stdout",
     "output_type": "stream",
     "text": [
      "67482\n"
     ]
    },
    {
     "name": "stderr",
     "output_type": "stream",
     "text": [
      "\n",
      " 81%|████████  | 230/284 [01:24<00:19,  2.76it/s]\u001B[A"
     ]
    },
    {
     "name": "stdout",
     "output_type": "stream",
     "text": [
      "1377\n"
     ]
    },
    {
     "name": "stderr",
     "output_type": "stream",
     "text": [
      "\n",
      " 81%|████████▏ | 231/284 [01:24<00:19,  2.73it/s]\u001B[A"
     ]
    },
    {
     "name": "stdout",
     "output_type": "stream",
     "text": [
      "407774\n"
     ]
    },
    {
     "name": "stderr",
     "output_type": "stream",
     "text": [
      "\n",
      " 82%|████████▏ | 232/284 [01:25<00:18,  2.74it/s]\u001B[A"
     ]
    },
    {
     "name": "stdout",
     "output_type": "stream",
     "text": [
      "166212\n"
     ]
    },
    {
     "name": "stderr",
     "output_type": "stream",
     "text": [
      "\n",
      " 82%|████████▏ | 233/284 [01:25<00:18,  2.75it/s]\u001B[A"
     ]
    },
    {
     "name": "stdout",
     "output_type": "stream",
     "text": [
      "28\n"
     ]
    },
    {
     "name": "stderr",
     "output_type": "stream",
     "text": [
      "\n",
      " 82%|████████▏ | 234/284 [01:25<00:18,  2.74it/s]\u001B[A"
     ]
    },
    {
     "name": "stdout",
     "output_type": "stream",
     "text": [
      "88\n"
     ]
    },
    {
     "name": "stderr",
     "output_type": "stream",
     "text": [
      "\n",
      " 83%|████████▎ | 235/284 [01:26<00:17,  2.74it/s]\u001B[A"
     ]
    },
    {
     "name": "stdout",
     "output_type": "stream",
     "text": [
      "4143\n"
     ]
    },
    {
     "name": "stderr",
     "output_type": "stream",
     "text": [
      "\n",
      " 83%|████████▎ | 236/284 [01:26<00:17,  2.76it/s]\u001B[A"
     ]
    },
    {
     "name": "stdout",
     "output_type": "stream",
     "text": [
      "2662\n"
     ]
    },
    {
     "name": "stderr",
     "output_type": "stream",
     "text": [
      "\n",
      " 83%|████████▎ | 237/284 [01:26<00:17,  2.76it/s]\u001B[A"
     ]
    },
    {
     "name": "stdout",
     "output_type": "stream",
     "text": [
      "24561\n"
     ]
    },
    {
     "name": "stderr",
     "output_type": "stream",
     "text": [
      "\n",
      " 84%|████████▍ | 238/284 [01:27<00:16,  2.77it/s]\u001B[A"
     ]
    },
    {
     "name": "stdout",
     "output_type": "stream",
     "text": [
      "156727\n"
     ]
    },
    {
     "name": "stderr",
     "output_type": "stream",
     "text": [
      "\n",
      " 84%|████████▍ | 239/284 [01:27<00:16,  2.75it/s]\u001B[A"
     ]
    },
    {
     "name": "stdout",
     "output_type": "stream",
     "text": [
      "26551\n"
     ]
    },
    {
     "name": "stderr",
     "output_type": "stream",
     "text": [
      "\n",
      " 85%|████████▍ | 240/284 [01:27<00:15,  2.76it/s]\u001B[A"
     ]
    },
    {
     "name": "stdout",
     "output_type": "stream",
     "text": [
      "17337\n"
     ]
    },
    {
     "name": "stderr",
     "output_type": "stream",
     "text": [
      "\n",
      " 85%|████████▍ | 241/284 [01:28<00:15,  2.76it/s]\u001B[A"
     ]
    },
    {
     "name": "stdout",
     "output_type": "stream",
     "text": [
      "29\n"
     ]
    },
    {
     "name": "stderr",
     "output_type": "stream",
     "text": [
      "\n",
      " 85%|████████▌ | 242/284 [01:28<00:15,  2.76it/s]\u001B[A"
     ]
    },
    {
     "name": "stdout",
     "output_type": "stream",
     "text": [
      "17\n"
     ]
    },
    {
     "name": "stderr",
     "output_type": "stream",
     "text": [
      "\n",
      " 86%|████████▌ | 243/284 [01:29<00:14,  2.77it/s]\u001B[A"
     ]
    },
    {
     "name": "stdout",
     "output_type": "stream",
     "text": [
      "41559\n"
     ]
    },
    {
     "name": "stderr",
     "output_type": "stream",
     "text": [
      "\n",
      " 86%|████████▌ | 244/284 [01:29<00:14,  2.76it/s]\u001B[A"
     ]
    },
    {
     "name": "stdout",
     "output_type": "stream",
     "text": [
      "210732\n"
     ]
    },
    {
     "name": "stderr",
     "output_type": "stream",
     "text": [
      "\n",
      " 86%|████████▋ | 245/284 [01:29<00:14,  2.76it/s]\u001B[A"
     ]
    },
    {
     "name": "stdout",
     "output_type": "stream",
     "text": [
      "3181\n"
     ]
    },
    {
     "name": "stderr",
     "output_type": "stream",
     "text": [
      "\n",
      " 87%|████████▋ | 246/284 [01:30<00:13,  2.76it/s]\u001B[A"
     ]
    },
    {
     "name": "stdout",
     "output_type": "stream",
     "text": [
      "1697\n"
     ]
    },
    {
     "name": "stderr",
     "output_type": "stream",
     "text": [
      "\n",
      " 87%|████████▋ | 247/284 [01:30<00:13,  2.77it/s]\u001B[A"
     ]
    },
    {
     "name": "stdout",
     "output_type": "stream",
     "text": [
      "51858\n"
     ]
    },
    {
     "name": "stderr",
     "output_type": "stream",
     "text": [
      "\n",
      " 87%|████████▋ | 248/284 [01:30<00:13,  2.76it/s]\u001B[A"
     ]
    },
    {
     "name": "stdout",
     "output_type": "stream",
     "text": [
      "53953\n"
     ]
    },
    {
     "name": "stderr",
     "output_type": "stream",
     "text": [
      "\n",
      " 88%|████████▊ | 249/284 [01:31<00:12,  2.76it/s]\u001B[A"
     ]
    },
    {
     "name": "stdout",
     "output_type": "stream",
     "text": [
      "21628\n"
     ]
    },
    {
     "name": "stderr",
     "output_type": "stream",
     "text": [
      "\n",
      " 88%|████████▊ | 250/284 [01:31<00:12,  2.75it/s]\u001B[A"
     ]
    },
    {
     "name": "stdout",
     "output_type": "stream",
     "text": [
      "147396\n"
     ]
    },
    {
     "name": "stderr",
     "output_type": "stream",
     "text": [
      "\n",
      " 88%|████████▊ | 251/284 [01:31<00:11,  2.77it/s]\u001B[A"
     ]
    },
    {
     "name": "stdout",
     "output_type": "stream",
     "text": [
      "1089\n"
     ]
    },
    {
     "name": "stderr",
     "output_type": "stream",
     "text": [
      "\n",
      " 89%|████████▊ | 252/284 [01:32<00:11,  2.77it/s]\u001B[A"
     ]
    },
    {
     "name": "stdout",
     "output_type": "stream",
     "text": [
      "424\n"
     ]
    },
    {
     "name": "stderr",
     "output_type": "stream",
     "text": [
      "\n",
      " 89%|████████▉ | 253/284 [01:32<00:11,  2.77it/s]\u001B[A"
     ]
    },
    {
     "name": "stdout",
     "output_type": "stream",
     "text": [
      "1284\n"
     ]
    },
    {
     "name": "stderr",
     "output_type": "stream",
     "text": [
      "\n",
      " 89%|████████▉ | 254/284 [01:32<00:10,  2.77it/s]\u001B[A"
     ]
    },
    {
     "name": "stdout",
     "output_type": "stream",
     "text": [
      "1297\n"
     ]
    },
    {
     "name": "stderr",
     "output_type": "stream",
     "text": [
      "\n",
      " 90%|████████▉ | 255/284 [01:33<00:10,  2.77it/s]\u001B[A"
     ]
    },
    {
     "name": "stdout",
     "output_type": "stream",
     "text": [
      "72273\n"
     ]
    },
    {
     "name": "stderr",
     "output_type": "stream",
     "text": [
      "\n",
      " 90%|█████████ | 256/284 [01:33<00:10,  2.77it/s]\u001B[A"
     ]
    },
    {
     "name": "stdout",
     "output_type": "stream",
     "text": [
      "1341\n"
     ]
    },
    {
     "name": "stderr",
     "output_type": "stream",
     "text": [
      "\n",
      " 90%|█████████ | 257/284 [01:34<00:09,  2.77it/s]\u001B[A"
     ]
    },
    {
     "name": "stdout",
     "output_type": "stream",
     "text": [
      "6551\n"
     ]
    },
    {
     "name": "stderr",
     "output_type": "stream",
     "text": [
      "\n",
      " 91%|█████████ | 258/284 [01:34<00:09,  2.76it/s]\u001B[A"
     ]
    },
    {
     "name": "stdout",
     "output_type": "stream",
     "text": [
      "41259\n"
     ]
    },
    {
     "name": "stderr",
     "output_type": "stream",
     "text": [
      "\n",
      " 91%|█████████ | 259/284 [01:34<00:09,  2.76it/s]\u001B[A"
     ]
    },
    {
     "name": "stdout",
     "output_type": "stream",
     "text": [
      "4352\n"
     ]
    },
    {
     "name": "stderr",
     "output_type": "stream",
     "text": [
      "\n",
      " 92%|█████████▏| 260/284 [01:35<00:08,  2.74it/s]\u001B[A"
     ]
    },
    {
     "name": "stdout",
     "output_type": "stream",
     "text": [
      "773\n"
     ]
    },
    {
     "name": "stderr",
     "output_type": "stream",
     "text": [
      "\n",
      " 92%|█████████▏| 261/284 [01:35<00:08,  2.76it/s]\u001B[A"
     ]
    },
    {
     "name": "stdout",
     "output_type": "stream",
     "text": [
      "1936\n"
     ]
    },
    {
     "name": "stderr",
     "output_type": "stream",
     "text": [
      "\n",
      " 92%|█████████▏| 262/284 [01:35<00:07,  2.75it/s]\u001B[A"
     ]
    },
    {
     "name": "stdout",
     "output_type": "stream",
     "text": [
      "56330\n"
     ]
    },
    {
     "name": "stderr",
     "output_type": "stream",
     "text": [
      "\n",
      " 93%|█████████▎| 263/284 [01:36<00:07,  2.74it/s]\u001B[A"
     ]
    },
    {
     "name": "stdout",
     "output_type": "stream",
     "text": [
      "74688\n"
     ]
    },
    {
     "name": "stderr",
     "output_type": "stream",
     "text": [
      "\n",
      " 93%|█████████▎| 264/284 [01:36<00:07,  2.75it/s]\u001B[A"
     ]
    },
    {
     "name": "stdout",
     "output_type": "stream",
     "text": [
      "3813\n"
     ]
    },
    {
     "name": "stderr",
     "output_type": "stream",
     "text": [
      "\n",
      " 93%|█████████▎| 265/284 [01:36<00:06,  2.75it/s]\u001B[A"
     ]
    },
    {
     "name": "stdout",
     "output_type": "stream",
     "text": [
      "219\n"
     ]
    },
    {
     "name": "stderr",
     "output_type": "stream",
     "text": [
      "\n",
      " 94%|█████████▎| 266/284 [01:37<00:06,  2.76it/s]\u001B[A"
     ]
    },
    {
     "name": "stdout",
     "output_type": "stream",
     "text": [
      "160\n"
     ]
    },
    {
     "name": "stderr",
     "output_type": "stream",
     "text": [
      "\n",
      " 94%|█████████▍| 267/284 [01:37<00:06,  2.76it/s]\u001B[A"
     ]
    },
    {
     "name": "stdout",
     "output_type": "stream",
     "text": [
      "5320\n"
     ]
    },
    {
     "name": "stderr",
     "output_type": "stream",
     "text": [
      "\n",
      " 94%|█████████▍| 268/284 [01:38<00:05,  2.75it/s]\u001B[A"
     ]
    },
    {
     "name": "stdout",
     "output_type": "stream",
     "text": [
      "8576\n"
     ]
    },
    {
     "name": "stderr",
     "output_type": "stream",
     "text": [
      "\n",
      " 95%|█████████▍| 269/284 [01:38<00:05,  2.74it/s]\u001B[A"
     ]
    },
    {
     "name": "stdout",
     "output_type": "stream",
     "text": [
      "1130\n"
     ]
    },
    {
     "name": "stderr",
     "output_type": "stream",
     "text": [
      "\n",
      " 95%|█████████▌| 270/284 [01:38<00:05,  2.75it/s]\u001B[A"
     ]
    },
    {
     "name": "stdout",
     "output_type": "stream",
     "text": [
      "1861\n"
     ]
    },
    {
     "name": "stderr",
     "output_type": "stream",
     "text": [
      "\n",
      " 95%|█████████▌| 271/284 [01:39<00:04,  2.74it/s]\u001B[A"
     ]
    },
    {
     "name": "stdout",
     "output_type": "stream",
     "text": [
      "3890\n"
     ]
    },
    {
     "name": "stderr",
     "output_type": "stream",
     "text": [
      "\n",
      " 96%|█████████▌| 272/284 [01:39<00:04,  2.75it/s]\u001B[A"
     ]
    },
    {
     "name": "stdout",
     "output_type": "stream",
     "text": [
      "604\n"
     ]
    },
    {
     "name": "stderr",
     "output_type": "stream",
     "text": [
      "\n",
      " 96%|█████████▌| 273/284 [01:39<00:03,  2.76it/s]\u001B[A"
     ]
    },
    {
     "name": "stdout",
     "output_type": "stream",
     "text": [
      "639\n"
     ]
    },
    {
     "name": "stderr",
     "output_type": "stream",
     "text": [
      "\n",
      " 96%|█████████▋| 274/284 [01:40<00:03,  2.75it/s]\u001B[A"
     ]
    },
    {
     "name": "stdout",
     "output_type": "stream",
     "text": [
      "23\n"
     ]
    },
    {
     "name": "stderr",
     "output_type": "stream",
     "text": [
      "\n",
      " 97%|█████████▋| 275/284 [01:40<00:03,  2.72it/s]\u001B[A"
     ]
    },
    {
     "name": "stdout",
     "output_type": "stream",
     "text": [
      "1571\n"
     ]
    },
    {
     "name": "stderr",
     "output_type": "stream",
     "text": [
      "\n",
      " 97%|█████████▋| 276/284 [01:41<00:02,  2.71it/s]\u001B[A"
     ]
    },
    {
     "name": "stdout",
     "output_type": "stream",
     "text": [
      "19493\n"
     ]
    },
    {
     "name": "stderr",
     "output_type": "stream",
     "text": [
      "\n",
      " 98%|█████████▊| 277/284 [01:41<00:02,  2.70it/s]\u001B[A"
     ]
    },
    {
     "name": "stdout",
     "output_type": "stream",
     "text": [
      "110\n"
     ]
    },
    {
     "name": "stderr",
     "output_type": "stream",
     "text": [
      "\n",
      " 98%|█████████▊| 278/284 [01:41<00:02,  2.70it/s]\u001B[A"
     ]
    },
    {
     "name": "stdout",
     "output_type": "stream",
     "text": [
      "913\n"
     ]
    },
    {
     "name": "stderr",
     "output_type": "stream",
     "text": [
      "\n",
      " 98%|█████████▊| 279/284 [01:42<00:01,  2.70it/s]\u001B[A"
     ]
    },
    {
     "name": "stdout",
     "output_type": "stream",
     "text": [
      "955\n"
     ]
    },
    {
     "name": "stderr",
     "output_type": "stream",
     "text": [
      "\n",
      " 99%|█████████▊| 280/284 [01:42<00:01,  2.69it/s]\u001B[A"
     ]
    },
    {
     "name": "stdout",
     "output_type": "stream",
     "text": [
      "642\n"
     ]
    },
    {
     "name": "stderr",
     "output_type": "stream",
     "text": [
      "\n",
      " 99%|█████████▉| 281/284 [01:42<00:01,  2.69it/s]\u001B[A"
     ]
    },
    {
     "name": "stdout",
     "output_type": "stream",
     "text": [
      "15992\n"
     ]
    },
    {
     "name": "stderr",
     "output_type": "stream",
     "text": [
      "\n",
      " 99%|█████████▉| 282/284 [01:43<00:00,  2.67it/s]\u001B[A"
     ]
    },
    {
     "name": "stdout",
     "output_type": "stream",
     "text": [
      "45805\n"
     ]
    },
    {
     "name": "stderr",
     "output_type": "stream",
     "text": [
      "\n",
      "100%|█████████▉| 283/284 [01:43<00:00,  2.68it/s]\u001B[A"
     ]
    },
    {
     "name": "stdout",
     "output_type": "stream",
     "text": [
      "6593\n"
     ]
    },
    {
     "name": "stderr",
     "output_type": "stream",
     "text": [
      "\n",
      "100%|██████████| 284/284 [01:44<00:00,  2.66it/s]\u001B[A"
     ]
    },
    {
     "name": "stdout",
     "output_type": "stream",
     "text": [
      "8882\n"
     ]
    }
   ],
   "execution_count": 24
  },
  {
   "metadata": {
    "ExecuteTime": {
     "end_time": "2024-07-25T06:15:10.370329Z",
     "start_time": "2024-07-25T06:15:10.355833Z"
    }
   },
   "cell_type": "code",
   "source": [
    "result = pd.DataFrame(records, columns=[\"query_idx\", \"target_idx\", \"rank\", \"dist\", \"set_size\", \"filter\"])\n",
    "result[\"query_addr\"] = result[\"query_idx\"].apply(lambda x: idx_to_address[x])\n",
    "result[\"target_addr\"] = result[\"target_idx\"].apply(lambda x: idx_to_address[x])\n",
    "result.drop([\"query_idx\", \"target_idx\"], axis=1)\n",
    "\n",
    "result.to_csv(\"output_file.csv\", index=False)"
   ],
   "id": "e27775c2dd9737b1",
   "outputs": [],
   "execution_count": 25
  }
 ],
 "metadata": {
  "kernelspec": {
   "display_name": "Python 3",
   "language": "python",
   "name": "python3"
  },
  "language_info": {
   "codemirror_mode": {
    "name": "ipython",
    "version": 2
   },
   "file_extension": ".py",
   "mimetype": "text/x-python",
   "name": "python",
   "nbconvert_exporter": "python",
   "pygments_lexer": "ipython2",
   "version": "2.7.6"
  }
 },
 "nbformat": 4,
 "nbformat_minor": 5
}
